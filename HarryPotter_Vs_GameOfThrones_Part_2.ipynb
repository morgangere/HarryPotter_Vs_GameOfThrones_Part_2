{
 "cells": [
  {
   "cell_type": "markdown",
   "id": "8ccf17f6",
   "metadata": {},
   "source": [
    "# Sentiment Analysis: Exploratory Analysis \n",
    "Morgan Gere\n",
    "\n",
    "5/21/2022"
   ]
  },
  {
   "cell_type": "markdown",
   "id": "1269e37b",
   "metadata": {},
   "source": [
    "As a continuation of an introduction into natural language processing.  Two texts will be imported into python.  The two texts are Harry Potter and the Philosophers Stone by J. K. Rowling obtained from Kaggle (https://www.kaggle.com/datasets/balabaskar/harry-potter-books-corpora-part-1-7) and Game of Thrones obtained from Kaggle (https://www.kaggle.com/datasets/khulasasndh/game-of-thrones-books).  Both books are of the fantasy genre, and both are the first of a series of books.  Harry Potter was written for children/adolescents while Game of Thrones was written for adults."
   ]
  },
  {
   "cell_type": "markdown",
   "id": "bdbae748",
   "metadata": {},
   "source": [
    "The texts will be cleaned and preprocessed followed by tokenized in such a way they can be used to find the part of speech tags.  The distribution of the tags will be obtained and used to compare the two texts.  These tags will be used to isolate adjective phrases, adverb phrases, and determiner noun phrases.  The top 50 from each book will be examined and compared.  The sentences containing these phrases will be isolated and an average word count per sentence will be found.  These will be compared to each other and the average sentence length of the entire book along with a comparison between the two books.  The top adjectives, adverbs, nouns, and verbs will be obtained and compared to thier phrases if applicable.  The top 10 will be selected and examined side by side incorporating frequency.  The last portion will be recommendation for sentiment analysis."
   ]
  },
  {
   "cell_type": "markdown",
   "id": "ff079c35",
   "metadata": {},
   "source": [
    "# Importing the texts."
   ]
  },
  {
   "cell_type": "markdown",
   "id": "bee336cb",
   "metadata": {},
   "source": [
    "Both books were read in from the downloaded file. "
   ]
  },
  {
   "cell_type": "code",
   "execution_count": 93,
   "id": "a0711869",
   "metadata": {},
   "outputs": [],
   "source": [
    "# saving the path\n",
    "hp_path = r'C:\\Users\\Morga\\programsMG\\NaturalLanguageProcessing\\book1.txt'\n",
    "\n",
    "# open the file\n",
    "f = open(hp_path, 'r',encoding=\"utf8\")\n",
    "\n",
    "#reading the text saving it to a variable\n",
    "hptext = f.read()"
   ]
  },
  {
   "cell_type": "code",
   "execution_count": 94,
   "id": "2da11803",
   "metadata": {},
   "outputs": [],
   "source": [
    "# saving the path\n",
    "got_path = r'C:\\Users\\Morga\\programsMG\\NaturalLanguageProcessing\\001ssb.txt'\n",
    "\n",
    "# open the file\n",
    "f = open(got_path, 'r',encoding=\"utf8\")\n",
    "\n",
    "#reading the text and saving it to a variable\n",
    "gottext = f.read()"
   ]
  },
  {
   "cell_type": "markdown",
   "id": "9ae56e3e",
   "metadata": {},
   "source": [
    "# Preprocessing / Cleaning"
   ]
  },
  {
   "cell_type": "markdown",
   "id": "363b4dfc",
   "metadata": {},
   "source": [
    "For Harry Potter the text was manually inspected and found to require preprocessing. There was code that needed to be removed, an example is \\n for a new line. There were page numbers along with strange characters that appeared thoughout the text. Regular expressions were created to remove these."
   ]
  },
  {
   "cell_type": "code",
   "execution_count": 95,
   "id": "c30d3936",
   "metadata": {},
   "outputs": [],
   "source": [
    "import re\n",
    "\n",
    "#Removing the \\n\n",
    "pattern = re.compile('\\n')\n",
    "hptext2=re.sub(pattern,'',hptext)\n",
    "\n",
    "#removing Page | ### Harry Potter and the Philosophers Stone - J.K. Rowling\n",
    "pattern2 = re.compile('Page \\| [0-9][0-9]*[0-9]* Harry Potter and the Philosophers Stone - *J.K. Rowling')\n",
    "hptext2=re.sub(pattern2,'',hptext2)\n",
    "\n",
    "#removing this wierd k k k  and symbol k k k\n",
    "pattern3 = re.compile('•k k k|k k k')\n",
    "hptext2=re.sub(pattern3,'',hptext2)"
   ]
  },
  {
   "cell_type": "markdown",
   "id": "fa671ae2",
   "metadata": {},
   "source": [
    "After using regular expressions a few characters remained at the beginning of the book and the end of the book that were not being captured by regular expressions.  The text was converted to tokens and these characters (now tokens) were deleted manually.  The tokens were transformed back into text so that the sentence tokenizer could be used.  This was accomplished using the tree bank word detokenizer."
   ]
  },
  {
   "cell_type": "code",
   "execution_count": 96,
   "id": "7873349b",
   "metadata": {},
   "outputs": [],
   "source": [
    "#tokenization\n",
    "import nltk\n",
    "hptokens = nltk.word_tokenize(hptext2)"
   ]
  },
  {
   "cell_type": "code",
   "execution_count": 97,
   "id": "ac78e824",
   "metadata": {},
   "outputs": [
    {
     "name": "stdout",
     "output_type": "stream",
     "text": [
      "['’', 'm', 'going', 'to', 'have', 'a', 'lot', 'of', 'fun', 'with', 'Dudley', 'this', 'summer', '...']\n",
      "['THE', 'BOY', 'WHO', 'LIVED', 'Mr.', 'and', 'Mrs.', 'Dursley', ',', 'of']\n"
     ]
    }
   ],
   "source": [
    "#the last token is not from the book needs to be removed\n",
    "del hptokens[101214]\n",
    "print(hptokens[101200:])\n",
    "#The first token is not from the book needs to be removed\n",
    "del hptokens[0]\n",
    "print(hptokens[:10])"
   ]
  },
  {
   "cell_type": "code",
   "execution_count": 98,
   "id": "223bcf0a",
   "metadata": {},
   "outputs": [],
   "source": [
    "#detokenization of HP text\n",
    "from nltk.tokenize.treebank import TreebankWordDetokenizer\n",
    "hptext3=TreebankWordDetokenizer().detokenize(hptokens)"
   ]
  },
  {
   "cell_type": "markdown",
   "id": "676a9424",
   "metadata": {},
   "source": [
    "For Game of Thrones after manual inspection of the text there were found to be the same issues that required preprocessing as the first book.  These were handled in the same way yet there were found to be many more than the Harry Potter text.  The same process of tokenizing and removal was used on patterns that were unable to be replicated in regular expressions.  This text was then detokenized in the same manor in order to use the sentence tokenizer."
   ]
  },
  {
   "cell_type": "code",
   "execution_count": 99,
   "id": "5984512a",
   "metadata": {},
   "outputs": [],
   "source": [
    "#Removing the \\n\n",
    "pattern = re.compile('\\n')\n",
    "gottext2=re.sub(pattern,'',gottext)\n",
    "\n",
    "\n",
    "## Removing page numbers and aurhtor from the pages along with some random numbers typed it the text\n",
    "pattern2 = re.compile('[Pp]age [0-9][0-9]*[0-9]*')\n",
    "gottext2=re.sub(pattern2,'',gottext2)\n",
    "\n",
    "pattern3 = re.compile('1fm')\n",
    "gottext2=re.sub(pattern3,\"I'm\",gottext2)\n",
    "\n",
    "pattern4 = re.compile('m1ord')\n",
    "gottext2=re.sub(pattern4,\"mlord\",gottext2)\n",
    "\n",
    "pattern5 = re.compile('11 \\*')\n",
    "gottext2=re.sub(pattern5,\"I'll\",gottext2)\n",
    "\n",
    "pattern6 = re.compile('Aerys 11 Targaryen')\n",
    "gottext2=re.sub(pattern6,\"Aerys II Targaryen\",gottext2)\n",
    "\n",
    "pattern7 = re.compile('Aegon 111')\n",
    "gottext2=re.sub(pattern7,\"Aegon III\",gottext2)\n",
    "\n",
    "pattern8 = re.compile('11IPm')\n",
    "gottext2=re.sub(pattern8,\"I'm\",gottext2)\n",
    "\n",
    "pattern9 = re.compile('CAME OF THRONES 119')\n",
    "gottext2=re.sub(pattern9,\"\",gottext2)\n",
    "\n",
    "pattern10 = re.compile('0')\n",
    "gottext2=re.sub(pattern10,\"o\",gottext2)\n",
    "\n",
    "pattern11 = re.compile('A GAM[EL],* OF THRON[LE]S [0-9][0-9]*[0-9]*')\n",
    "gottext2=re.sub(pattern11,\"of\",gottext2)\n",
    "\n",
    "pattern12 = re.compile('[0-9][0-9]*[0-9]* GLORG[LE] R.R. MARTIN')\n",
    "gottext2=re.sub(pattern12,\"of\",gottext2)\n",
    "\n",
    "pattern13 = re.compile('402 GEORGE R.R. MARUN')\n",
    "gottext2=re.sub(pattern13,\"\",gottext2)\n",
    "\n",
    "pattern14 = re.compile('11')\n",
    "gottext2=re.sub(pattern14,\"\",gottext2)\n",
    "\n",
    "pattern15 = re.compile('[0-9][0-9]*[0-9]* GEORGL R.R. MARTIN')\n",
    "gottext2=re.sub(pattern15,\"\",gottext2)\n",
    "\n",
    "pattern16 = re.compile('1')\n",
    "gottext2=re.sub(pattern16,\"I\",gottext2)\n",
    "\n",
    "pattern17 = re.compile('[0-9][0-9]*[0-9]* GEORGE R.R. MARTM')\n",
    "gottext2=re.sub(pattern17,\"\",gottext2)\n",
    "\n",
    "pattern18 = re.compile('1oo GLORGE R.R. MARTIN')\n",
    "gottext2=re.sub(pattern18,\"\",gottext2)\n",
    "\n",
    "pattern19 = re.compile('[0-9][0-9]*[0-9]* GEORGE RA. MARTIN')\n",
    "gottext2=re.sub(pattern19,\"\",gottext2)\n",
    "\n",
    "pattern20 = re.compile('[0-9][0-9]*[0-9]* GEORGE R.R. MARTIN')\n",
    "gottext2=re.sub(pattern20,\"\",gottext2)\n",
    "\n",
    "pattern21 = re.compile('[0-9][0-9]*[0-9]* GLORGL R.R. MARTIN')\n",
    "gottext2=re.sub(pattern21,\"\",gottext2)\n",
    "\n",
    "pattern22 = re.compile('A [CG]A[NM]4*[EL] OF THRON[EF]S [0-9][0-9]*[0-9]')\n",
    "gottext2=re.sub(pattern22,\"\",gottext2)\n",
    "\n",
    "pattern23 = re.compile('9\\' \". . .')\n",
    "gottext2=re.sub(pattern23,\"\",gottext2)\n",
    "\n",
    "pattern24 = re.compile('[0-9][0-9]*[0-9]* GEORGE R.R. MARUN')\n",
    "gottext2=re.sub(pattern24,\"\",gottext2)\n",
    "\n",
    "pattern25 = re.compile('A GAME OF TFIRONES 535')\n",
    "gottext2=re.sub(pattern25,\"\",gottext2)\n",
    "\n",
    "pattern26 = re.compile('[0-9][0-9]*[0-9]* GLORGL R.R. MARTIN')\n",
    "gottext2=re.sub(pattern26,\"\",gottext2)\n",
    "\n",
    "pattern27 = re.compile('26o GLORGL R.R. MARTIN')\n",
    "gottext2=re.sub(pattern27,\"\",gottext2)\n",
    "\n",
    "pattern28 = re.compile('ofo[0-9]')\n",
    "gottext2=re.sub(pattern28,\"\",gottext2)\n",
    "\n",
    "pattern29 = re.compile('m7ord')\n",
    "gottext2=re.sub(pattern29,\"mlord\",gottext2)\n",
    "\n",
    "pattern30 = re.compile('4o ')\n",
    "gottext2=re.sub(pattern30,\"\",gottext2)\n",
    "\n",
    "pattern31 = re.compile('Red4yne')\n",
    "gottext2=re.sub(pattern31,\"Redyne\",gottext2)\n",
    "\n",
    "pattern32 = re.compile('65o GLORGL R.R. MARTIN')\n",
    "gottext2=re.sub(pattern32,\"\",gottext2)\n",
    "\n",
    "pattern33 = re.compile('Red4yne')\n",
    "gottext2=re.sub(pattern33,\"Redyne\",gottext2)\n",
    "\n",
    "pattern34 = re.compile(\"A GAME OF 'FHRONES 679\")\n",
    "gottext2=re.sub(pattern34,\"\",gottext2)\n",
    "\n",
    "pattern35 = re.compile(\" I 9\")\n",
    "gottext2=re.sub(pattern35,\"\",gottext2)\n",
    "\n",
    "pattern36=re.compile(\"\\'\\'\")\n",
    "gottext2=re.sub(pattern36,\"\",gottext2)"
   ]
  },
  {
   "cell_type": "code",
   "execution_count": 100,
   "id": "d08afdd0",
   "metadata": {},
   "outputs": [],
   "source": [
    "#tokenization\n",
    "gottokens = nltk.word_tokenize(gottext2)"
   ]
  },
  {
   "cell_type": "code",
   "execution_count": 101,
   "id": "b1f2aa4f",
   "metadata": {},
   "outputs": [],
   "source": [
    "# creating a loop to manually remove an unwanted token.\n",
    "fixedgottokesn =[]\n",
    "for token in gottokens:\n",
    "    if token == \"``\":\n",
    "        continue\n",
    "    else:\n",
    "        fixedgottokesn.append(token)"
   ]
  },
  {
   "cell_type": "code",
   "execution_count": 102,
   "id": "c61a8c56",
   "metadata": {},
   "outputs": [],
   "source": [
    "# creating a loop to manually remove an unwanted token.\n",
    "fixedgottokesn2 =[]\n",
    "for token in fixedgottokesn:\n",
    "    if token == \"''\":\n",
    "        continue\n",
    "    else:\n",
    "        fixedgottokesn2.append(token)"
   ]
  },
  {
   "cell_type": "code",
   "execution_count": 103,
   "id": "55a2b984",
   "metadata": {},
   "outputs": [],
   "source": [
    "#detokenization of got text\n",
    "from nltk.tokenize.treebank import TreebankWordDetokenizer\n",
    "gottext3=TreebankWordDetokenizer().detokenize(fixedgottokesn2)"
   ]
  },
  {
   "cell_type": "markdown",
   "id": "d91736e7",
   "metadata": {},
   "source": [
    "# Tokenization/POS Tagging"
   ]
  },
  {
   "cell_type": "markdown",
   "id": "e2a514d5",
   "metadata": {},
   "source": [
    "The text was broken into sentences using the nltk sentence tokenizer.  A loop was used that took each sentence (now a token) and placed it though the nltk word tokenizer and placed the list of tokens into a new list.  This was done for each book giving two lists of lists filled with tokens."
   ]
  },
  {
   "cell_type": "code",
   "execution_count": 104,
   "id": "0b18242d",
   "metadata": {},
   "outputs": [],
   "source": [
    "#sentence tokenization\n",
    "got_sent_toke = nltk.sent_tokenize(gottext3)"
   ]
  },
  {
   "cell_type": "code",
   "execution_count": 105,
   "id": "b8088744",
   "metadata": {},
   "outputs": [],
   "source": [
    "#word tokenization inside each tokenized sentence\n",
    "got_toke = []\n",
    "for sent in got_sent_toke:\n",
    "    x = nltk.word_tokenize(sent)\n",
    "    got_toke.append(x)"
   ]
  },
  {
   "cell_type": "code",
   "execution_count": 106,
   "id": "0b1e2025",
   "metadata": {},
   "outputs": [],
   "source": [
    "#sentence tokenization\n",
    "hp_sent_toke = nltk.sent_tokenize(hptext3)"
   ]
  },
  {
   "cell_type": "code",
   "execution_count": 107,
   "id": "121107ae",
   "metadata": {},
   "outputs": [],
   "source": [
    "#word tokenization inside each tokenized sentence\n",
    "hp_toke = []\n",
    "for sent in hp_sent_toke:\n",
    "    x = nltk.word_tokenize(sent)\n",
    "    hp_toke.append(x)"
   ]
  },
  {
   "cell_type": "markdown",
   "id": "cbcbd621",
   "metadata": {},
   "source": [
    "For each list of lists of tokens, each sentence token was placed into the nltk pos tagger and each word token was tagged with its part of speech.  The word token was placed into a tuple along with its tag.  The tuples were added to a list and the list of tuples was placed into another list.  This keeps the sentence structure and the structure of the book the same resulting in a list of lists of tuples that contain the word token and its part of speech tag.  "
   ]
  },
  {
   "cell_type": "code",
   "execution_count": 108,
   "id": "c1edcafe",
   "metadata": {},
   "outputs": [
    {
     "name": "stdout",
     "output_type": "stream",
     "text": [
      "[[('A', 'DT'), ('Game', 'NNP'), ('Of', 'IN'), ('Thrones', 'NNP'), ('Book', 'NNP'), ('One', 'NNP'), ('of', 'IN'), ('A', 'NNP'), ('Song', 'NNP'), ('of', 'IN'), ('Ice', 'NNP'), ('and', 'CC'), ('Fire', 'NNP'), ('By', 'IN'), ('George', 'NNP'), ('R.', 'NNP'), ('R.', 'NNP'), ('Martin', 'NNP'), ('PROLOGUE', 'NNP'), ('We', 'PRP'), ('should', 'MD'), ('start', 'VB'), ('back', 'RB'), (',', ','), ('Gared', 'NNP'), ('urged', 'VBD'), ('as', 'IN'), ('the', 'DT'), ('woods', 'NNS'), ('began', 'VBD'), ('to', 'TO'), ('grow', 'VB'), ('dark', 'NN'), ('around', 'IN'), ('them', 'PRP'), ('.', '.')], [('The', 'DT'), ('wildlings', 'NNS'), ('are', 'VBP'), ('dead', 'JJ'), ('.', '.')]]\n"
     ]
    }
   ],
   "source": [
    "## POS Tagging, to retrieve adjective (JJs) and adverb (RBs) tags\n",
    "\n",
    "# use the Stanford POS tagger to POS tag tokens of each sentence\n",
    "# this is the default tagger in nltk\n",
    "tagged_got_text = [nltk.pos_tag(tokens) for tokens in got_toke]\n",
    "print(tagged_got_text[:2])"
   ]
  },
  {
   "cell_type": "code",
   "execution_count": 109,
   "id": "d3db6a9a",
   "metadata": {},
   "outputs": [
    {
     "name": "stdout",
     "output_type": "stream",
     "text": [
      "[[('THE', 'DT'), ('BOY', 'NNP'), ('WHO', 'NNP'), ('LIVED', 'NNP'), ('Mr.', 'NNP'), ('and', 'CC'), ('Mrs.', 'NNP'), ('Dursley', 'NNP'), (',', ','), ('of', 'IN'), ('number', 'NN'), ('four', 'CD'), (',', ','), ('Privet', 'NNP'), ('Drive', 'NNP'), (',', ','), ('were', 'VBD'), ('proud', 'JJ'), ('to', 'TO'), ('say', 'VB'), ('that', 'IN'), ('they', 'PRP'), ('were', 'VBD'), ('perfectly', 'RB'), ('normal', 'JJ'), (',', ','), ('thank', 'NN'), ('you', 'PRP'), ('very', 'RB'), ('much', 'RB'), ('.', '.')], [('They', 'PRP'), ('were', 'VBD'), ('the', 'DT'), ('last', 'JJ'), ('people', 'NNS'), ('you', 'PRP'), ('’', 'VBP'), ('d', 'JJ'), ('expect', 'VBP'), ('to', 'TO'), ('be', 'VB'), ('involved', 'VBN'), ('in', 'IN'), ('anything', 'NN'), ('strange', 'JJ'), ('or', 'CC'), ('mysterious', 'JJ'), (',', ','), ('because', 'IN'), ('they', 'PRP'), ('just', 'RB'), ('didn', 'VBP'), ('’', 'JJ'), ('t', 'NN'), ('hold', 'NN'), ('with', 'IN'), ('such', 'JJ'), ('nonsense', 'NN'), ('.', '.')]]\n"
     ]
    }
   ],
   "source": [
    "## POS Tagging, to retrieve adjective (JJs) and adverb (RBs) tags\n",
    "\n",
    "# use the Stanford POS tagger to POS tag tokens of each sentence\n",
    "# this is the default tagger in nltk\n",
    "tagged_hp_text = [nltk.pos_tag(tokens) for tokens in hp_toke]\n",
    "print(tagged_hp_text[:2])"
   ]
  },
  {
   "cell_type": "markdown",
   "id": "71ffaecc",
   "metadata": {},
   "source": [
    "# POS tagging understanding"
   ]
  },
  {
   "cell_type": "markdown",
   "id": "9a766c0a",
   "metadata": {},
   "source": [
    "In order to have a written-out explanation of each part of speech (POS) tag and be able to see which tags were present in the list of lists of tuples. A function was created that pulled the tag and added it to a list if it was not already present in the list.  This list was then used in a loop that replaced the tag with the same tag name and a brief explanation and possible example.  This function was then used on each list of lists of tuples, this shows that there is punctuation remaining and in fact all the tag types were used."
   ]
  },
  {
   "cell_type": "code",
   "execution_count": 110,
   "id": "6e518c6f",
   "metadata": {},
   "outputs": [],
   "source": [
    "def unq_pos(list):\n",
    "    unq = []\n",
    "    for sent in list:\n",
    "        for key , value in sent:\n",
    "            x = value\n",
    "            if x in unq:\n",
    "                continue\n",
    "            else:\n",
    "                unq.append(x)\n",
    "    unq2 =[]\n",
    "    for item in unq:\n",
    "        if item == 'CC':\n",
    "            item = 'CC ,coordinating conjunction'\n",
    "        elif item == 'CD':\n",
    "            item = 'CD, cardinal digit'\n",
    "        elif item == 'DT':\n",
    "            item= 'DT,determiner'\n",
    "        elif item == 'EX':\n",
    "            item = 'EX, existential there'\n",
    "        elif item == 'FW':\n",
    "            item = 'FW , foreign word'\n",
    "        elif item == 'IN':\n",
    "            item = 'IN, preposition/subordinating conjunction'\n",
    "        elif item == 'JJ':\n",
    "            item = 'JJ, This NLTK POS Tag is an adjective (large)'\n",
    "        elif item == 'JJR':\n",
    "            item = 'JJR, adjective, comparative (larger)'\n",
    "        elif item == 'JJS':\n",
    "            item= 'JJS, adjective, superlative (largest)'\n",
    "        elif item == 'LS':\n",
    "            item = 'LS, list market'\n",
    "        elif item == 'MD':\n",
    "            item = 'MD, modal (could, will)'\n",
    "        elif item == 'NN':\n",
    "            item = 'NN, noun, singular (cat, tree)'\n",
    "        elif item == 'NNS':\n",
    "            item = 'NNS, noun plural (desks)'\n",
    "        elif item == 'NNP':\n",
    "            item = 'NNP, proper noun, singular (sarah)'\n",
    "        elif item == 'NNPS':\n",
    "            item = 'NNPS, proper noun, plural (indians or americans)'\n",
    "        elif item == 'PDT':\n",
    "            item = 'PDT, predeterminer (all, both, half)'\n",
    "        elif item == 'POS':\n",
    "            item = 'POS, possessive ending (parent\\ ‘s)'\n",
    "        elif item == 'PRP':\n",
    "            item = 'PRP, personal pronoun (hers, herself, him, himself)'\n",
    "        elif item == 'PRP$':\n",
    "            item = 'PRP$, possessive pronoun (her, his, mine, my, our)'\n",
    "        elif item == 'RB':\n",
    "            item ='RB, adverb (occasionally, swiftly)'\n",
    "        elif item == 'RBR':\n",
    "            item = 'RBR, adverb, comparative (greater)'\n",
    "        elif item == 'RBS':\n",
    "            item = 'RBS, adverb, superlative (biggest)'\n",
    "        elif item == 'RP':\n",
    "            item = 'RP, particle (about)'\n",
    "        elif item == 'TO':\n",
    "            item = 'TO, infinite marker (to)'\n",
    "        elif item == 'UH':\n",
    "            item = 'UH, interjection (goodbye)'\n",
    "        elif item == 'VB':\n",
    "            item = 'VB, verb (ask)'\n",
    "        elif item == 'VBG':\n",
    "            item = 'VBG, verb gerund (judging)'\n",
    "        elif item == 'VBD':\n",
    "            item = 'VBD, verb past tense (pleaded)'\n",
    "        elif item == 'VBN':\n",
    "            item = 'VBN, verb past participle (reunified)'\n",
    "        elif item == 'VBP':\n",
    "            item = 'VBP, verb, present tense not 3rd person singular(wrap)'\n",
    "        elif item == 'VBZ':\n",
    "            item = 'VBZ, verb, present tense with 3rd person singular (bases)'\n",
    "        elif item == 'WDT':\n",
    "            item = 'WDT, wh-determiner (that, what)'\n",
    "        elif item == 'WP':\n",
    "            item  = 'WP, wh- pronoun (who)'\n",
    "        elif item == 'WRB':\n",
    "            item = 'WRB, wh- adverb (how)'\n",
    "        elif item == 'WP$':\n",
    "            item = 'WP$, possessive wh-pronoun. Example: whos'\n",
    "        unq2.append(item)\n",
    "    return unq2"
   ]
  },
  {
   "cell_type": "code",
   "execution_count": 111,
   "id": "2054a955",
   "metadata": {},
   "outputs": [
    {
     "data": {
      "text/plain": [
       "['DT,determiner',\n",
       " 'NNP, proper noun, singular (sarah)',\n",
       " 'IN, preposition/subordinating conjunction',\n",
       " 'CC ,coordinating conjunction',\n",
       " 'PRP, personal pronoun (hers, herself, him, himself)',\n",
       " 'MD, modal (could, will)',\n",
       " 'VB, verb (ask)',\n",
       " 'RB, adverb (occasionally, swiftly)',\n",
       " ',',\n",
       " 'VBD, verb past tense (pleaded)',\n",
       " 'NNS, noun plural (desks)',\n",
       " 'TO, infinite marker (to)',\n",
       " 'NN, noun, singular (cat, tree)',\n",
       " '.',\n",
       " 'VBP, verb, present tense not 3rd person singular(wrap)',\n",
       " 'JJ, This NLTK POS Tag is an adjective (large)',\n",
       " 'VBN, verb past participle (reunified)',\n",
       " 'VBZ, verb, present tense with 3rd person singular (bases)',\n",
       " 'WP, wh- pronoun (who)',\n",
       " 'WDT, wh-determiner (that, what)',\n",
       " 'PRP$, possessive pronoun (her, his, mine, my, our)',\n",
       " 'VBG, verb gerund (judging)',\n",
       " 'POS, possessive ending (parent\\\\ ‘s)',\n",
       " 'EX, existential there',\n",
       " 'RP, particle (about)',\n",
       " 'CD, cardinal digit',\n",
       " 'RBR, adverb, comparative (greater)',\n",
       " 'JJR, adjective, comparative (larger)',\n",
       " ':',\n",
       " 'PDT, predeterminer (all, both, half)',\n",
       " 'JJS, adjective, superlative (largest)',\n",
       " 'RBS, adverb, superlative (biggest)',\n",
       " 'WRB, wh- adverb (how)',\n",
       " 'UH, interjection (goodbye)',\n",
       " 'NNPS, proper noun, plural (indians or americans)',\n",
       " 'WP$, possessive wh-pronoun. Example: whos',\n",
       " \"''\",\n",
       " 'FW , foreign word',\n",
       " '(',\n",
       " ')',\n",
       " '``']"
      ]
     },
     "execution_count": 111,
     "metadata": {},
     "output_type": "execute_result"
    }
   ],
   "source": [
    "got_unq_tags = unq_pos(tagged_got_text)\n",
    "got_unq_tags"
   ]
  },
  {
   "cell_type": "code",
   "execution_count": 112,
   "id": "90320540",
   "metadata": {},
   "outputs": [
    {
     "data": {
      "text/plain": [
       "['DT,determiner',\n",
       " 'NNP, proper noun, singular (sarah)',\n",
       " 'CC ,coordinating conjunction',\n",
       " ',',\n",
       " 'IN, preposition/subordinating conjunction',\n",
       " 'NN, noun, singular (cat, tree)',\n",
       " 'CD, cardinal digit',\n",
       " 'VBD, verb past tense (pleaded)',\n",
       " 'JJ, This NLTK POS Tag is an adjective (large)',\n",
       " 'TO, infinite marker (to)',\n",
       " 'VB, verb (ask)',\n",
       " 'PRP, personal pronoun (hers, herself, him, himself)',\n",
       " 'RB, adverb (occasionally, swiftly)',\n",
       " '.',\n",
       " 'NNS, noun plural (desks)',\n",
       " 'VBP, verb, present tense not 3rd person singular(wrap)',\n",
       " 'VBN, verb past participle (reunified)',\n",
       " 'WDT, wh-determiner (that, what)',\n",
       " 'PRP$, possessive pronoun (her, his, mine, my, our)',\n",
       " 'VBG, verb gerund (judging)',\n",
       " 'EX, existential there',\n",
       " 'JJS, adjective, superlative (largest)',\n",
       " 'MD, modal (could, will)',\n",
       " ':',\n",
       " 'VBZ, verb, present tense with 3rd person singular (bases)',\n",
       " 'WP, wh- pronoun (who)',\n",
       " 'NNPS, proper noun, plural (indians or americans)',\n",
       " 'WRB, wh- adverb (how)',\n",
       " 'RP, particle (about)',\n",
       " 'RBS, adverb, superlative (biggest)',\n",
       " 'PDT, predeterminer (all, both, half)',\n",
       " 'JJR, adjective, comparative (larger)',\n",
       " 'UH, interjection (goodbye)',\n",
       " 'RBR, adverb, comparative (greater)',\n",
       " '(',\n",
       " ')',\n",
       " 'FW , foreign word',\n",
       " \"''\",\n",
       " '``',\n",
       " 'WP$, possessive wh-pronoun. Example: whos',\n",
       " 'POS, possessive ending (parent\\\\ ‘s)']"
      ]
     },
     "execution_count": 112,
     "metadata": {},
     "output_type": "execute_result"
    }
   ],
   "source": [
    "hp_unq_tags = unq_pos(tagged_hp_text)\n",
    "hp_unq_tags"
   ]
  },
  {
   "cell_type": "markdown",
   "id": "07f62246",
   "metadata": {},
   "source": [
    "# Percentage of each text by POS Tag"
   ]
  },
  {
   "cell_type": "markdown",
   "id": "4a3d45f1",
   "metadata": {},
   "source": [
    "To see the distribution of POS tags in the total text, a function was created that takes a POS tag and the list of lists of tuples and returns the count for that POS tag.  A loop was used to return the unique POS tags from the total text.  Using a loop, the list of unique POS tags was run through the function to give a list of the frequency of each POS tag.  This list was then converted into percentages.  The unique POS list and the percentage of frequency was placed into a dictionary then placed back into a list to sort it by the value and placed back into a dictionary.  Using this sorted dictionary, a graph was created to see the distribution of POS tags by percentage."
   ]
  },
  {
   "cell_type": "code",
   "execution_count": 113,
   "id": "ac7a5b1f",
   "metadata": {},
   "outputs": [],
   "source": [
    "#creating a function to find the count of a pos tag from the token list\n",
    "def pos_count(POS,taggedsentlist):\n",
    "    count = []\n",
    "    for sent in taggedsentlist:\n",
    "        for key , value in sent:\n",
    "            x = value\n",
    "            if x == POS:\n",
    "                count.append(x)\n",
    "            else:\n",
    "                continue\n",
    "        \n",
    "    return len(count)"
   ]
  },
  {
   "cell_type": "code",
   "execution_count": 114,
   "id": "befb090c",
   "metadata": {},
   "outputs": [
    {
     "name": "stdout",
     "output_type": "stream",
     "text": [
      "['DT', 'NNP', 'IN', 'CC', 'PRP', 'MD', 'VB', 'RB', ',', 'VBD', 'NNS', 'TO', 'NN', '.', 'VBP', 'JJ', 'VBN', 'VBZ', 'WP', 'WDT', 'PRP$', 'VBG', 'POS', 'EX', 'RP', 'CD', 'RBR', 'JJR', ':', 'PDT', 'JJS', 'RBS', 'WRB', 'UH', 'NNPS', 'WP$', \"''\", 'FW', '(', ')', '``']\n"
     ]
    }
   ],
   "source": [
    "#creating a list of the pos tags from GoT and placing them into a list.\n",
    "gotunq = []\n",
    "for sent in tagged_got_text:\n",
    "    for key , value in sent:\n",
    "        x = value\n",
    "        if x in gotunq:\n",
    "            continue\n",
    "        else:\n",
    "            gotunq.append(x)\n",
    "print(gotunq)"
   ]
  },
  {
   "cell_type": "code",
   "execution_count": 115,
   "id": "45f068d0",
   "metadata": {},
   "outputs": [
    {
     "name": "stdout",
     "output_type": "stream",
     "text": [
      "[29363, 22599, 29600, 10989, 26794, 5070, 11757, 15628, 21040, 26255, 12598, 6546, 41730, 27230, 4873, 14615, 6484, 3494, 1293, 508, 11275, 4685, 2270, 541, 1929, 1464, 401, 836, 556, 354, 422, 61, 1947, 256, 78, 28, 44, 6, 8, 7, 3]\n"
     ]
    }
   ],
   "source": [
    "# using a loop to run each tag from the GoT tag list through the function to aquire the counts\n",
    "got_pos_count= []\n",
    "for item in gotunq:\n",
    "    x=pos_count(item,tagged_got_text)\n",
    "    got_pos_count.append(x)\n",
    "print(got_pos_count)"
   ]
  },
  {
   "cell_type": "code",
   "execution_count": 116,
   "id": "e78af8b9",
   "metadata": {},
   "outputs": [
    {
     "name": "stdout",
     "output_type": "stream",
     "text": [
      "[8.49533, 6.53836, 8.5639, 3.17935, 7.75206, 1.46686, 3.40155, 4.52151, 6.08731, 7.59612, 3.64486, 1.89389, 12.07336, 7.87821, 1.40986, 4.22842, 1.87596, 1.01089, 0.37409, 0.14698, 3.26209, 1.35547, 0.65676, 0.15652, 0.5581, 0.42357, 0.11602, 0.24187, 0.16086, 0.10242, 0.12209, 0.01765, 0.56331, 0.07407, 0.02257, 0.0081, 0.01273, 0.00174, 0.00231, 0.00203, 0.00087]\n"
     ]
    }
   ],
   "source": [
    "#converting the count list to percent\n",
    "total_got_pos_count=sum(got_pos_count)\n",
    "\n",
    "\n",
    "got_pos_perc = []\n",
    "for item in got_pos_count:\n",
    "    x=round(((item/total_got_pos_count)*100),5)\n",
    "    got_pos_perc.append(x)\n",
    "    \n",
    "print(got_pos_perc)"
   ]
  },
  {
   "cell_type": "code",
   "execution_count": 117,
   "id": "58030176",
   "metadata": {},
   "outputs": [],
   "source": [
    "#creating a function to take two lists and creat a dictionary.\n",
    "def dict_creator(keys, values):\n",
    "    return dict(zip(keys, values))"
   ]
  },
  {
   "cell_type": "code",
   "execution_count": 118,
   "id": "1e04f55f",
   "metadata": {},
   "outputs": [
    {
     "name": "stdout",
     "output_type": "stream",
     "text": [
      "{'NN': 12.07336, 'IN': 8.5639, 'DT': 8.49533, '.': 7.87821, 'PRP': 7.75206, 'VBD': 7.59612, 'NNP': 6.53836, ',': 6.08731, 'RB': 4.52151, 'JJ': 4.22842, 'NNS': 3.64486, 'VB': 3.40155, 'PRP$': 3.26209, 'CC': 3.17935, 'TO': 1.89389, 'VBN': 1.87596, 'MD': 1.46686, 'VBP': 1.40986, 'VBG': 1.35547, 'VBZ': 1.01089, 'POS': 0.65676, 'WRB': 0.56331, 'RP': 0.5581, 'CD': 0.42357, 'WP': 0.37409, 'JJR': 0.24187, ':': 0.16086, 'EX': 0.15652, 'WDT': 0.14698, 'JJS': 0.12209, 'RBR': 0.11602, 'PDT': 0.10242, 'UH': 0.07407, 'NNPS': 0.02257, 'RBS': 0.01765, \"''\": 0.01273, 'WP$': 0.0081, '(': 0.00231, ')': 0.00203, 'FW': 0.00174, '``': 0.00087}\n"
     ]
    }
   ],
   "source": [
    "# Creating a dictionary where the keys are the POS tags and the values are thier frequncies\n",
    "got_dict_count=dict_creator(gotunq,got_pos_perc)\n",
    "got_dict_count\n",
    "#Placing the dict into a list and sorting by valuse then placing it back into a dictionary\n",
    "got_dict_count_list = sorted(got_dict_count.items(), key=lambda x:x[1],reverse=True)\n",
    "got_dict_count_2 = dict(got_dict_count_list)\n",
    "print(got_dict_count_2)"
   ]
  },
  {
   "cell_type": "code",
   "execution_count": 119,
   "id": "8f9f8a59",
   "metadata": {},
   "outputs": [
    {
     "name": "stdout",
     "output_type": "stream",
     "text": [
      "['DT', 'NNP', 'CC', ',', 'IN', 'NN', 'CD', 'VBD', 'JJ', 'TO', 'VB', 'PRP', 'RB', '.', 'NNS', 'VBP', 'VBN', 'WDT', 'PRP$', 'VBG', 'EX', 'JJS', 'MD', ':', 'VBZ', 'WP', 'NNPS', 'WRB', 'RP', 'RBS', 'PDT', 'JJR', 'UH', 'RBR', '(', ')', 'FW', \"''\", '``', 'WP$', 'POS']\n"
     ]
    }
   ],
   "source": [
    "#creating a list of the pos tags from GoT and placing them into a list.\n",
    "hpunq = []\n",
    "for sent in tagged_hp_text:\n",
    "    for key , value in sent:\n",
    "        x = value\n",
    "        if x in hpunq:\n",
    "            continue\n",
    "        else:\n",
    "            hpunq.append(x)\n",
    "print(hpunq)"
   ]
  },
  {
   "cell_type": "code",
   "execution_count": 120,
   "id": "6de49a2a",
   "metadata": {},
   "outputs": [
    {
     "name": "stdout",
     "output_type": "stream",
     "text": [
      "[6780, 10611, 2539, 5658, 8342, 13364, 557, 7724, 6218, 1859, 3209, 7406, 5042, 6446, 2945, 2422, 1547, 236, 1650, 2089, 205, 117, 743, 369, 1283, 558, 38, 486, 754, 21, 109, 189, 59, 85, 30, 31, 58, 12, 9, 3, 2]\n"
     ]
    }
   ],
   "source": [
    "# using a loop to run each tag from the GoT tag list through the function to aquire the counts\n",
    "hp_pos_count= []\n",
    "for item in hpunq:\n",
    "    x=pos_count(item,tagged_hp_text)\n",
    "    hp_pos_count.append(x)\n",
    "print(hp_pos_count)"
   ]
  },
  {
   "cell_type": "code",
   "execution_count": 121,
   "id": "c0db13e2",
   "metadata": {},
   "outputs": [
    {
     "name": "stdout",
     "output_type": "stream",
     "text": [
      "[6.65979, 10.42287, 2.49398, 5.55768, 8.1941, 13.12706, 0.54712, 7.58705, 6.10776, 1.82604, 3.1521, 7.27469, 4.95261, 6.33171, 2.89279, 2.37906, 1.51957, 0.23182, 1.62075, 2.05196, 0.20137, 0.11493, 0.72983, 0.36246, 1.26025, 0.54811, 0.03733, 0.47738, 0.74063, 0.02063, 0.10707, 0.18565, 0.05795, 0.08349, 0.02947, 0.03045, 0.05697, 0.01179, 0.00884, 0.00295, 0.00196]\n"
     ]
    }
   ],
   "source": [
    "#converting the count list to percent\n",
    "total_hp_pos_count=sum(hp_pos_count)\n",
    "\n",
    "hp_pos_perc = []\n",
    "for item in hp_pos_count:\n",
    "    x=round(((item/total_hp_pos_count)*100),5)\n",
    "    hp_pos_perc.append(x)\n",
    "    \n",
    "print(hp_pos_perc)"
   ]
  },
  {
   "cell_type": "code",
   "execution_count": 122,
   "id": "a4ca58fe",
   "metadata": {},
   "outputs": [
    {
     "name": "stdout",
     "output_type": "stream",
     "text": [
      "{'NN': 13.12706, 'NNP': 10.42287, 'IN': 8.1941, 'VBD': 7.58705, 'PRP': 7.27469, 'DT': 6.65979, '.': 6.33171, 'JJ': 6.10776, ',': 5.55768, 'RB': 4.95261, 'VB': 3.1521, 'NNS': 2.89279, 'CC': 2.49398, 'VBP': 2.37906, 'VBG': 2.05196, 'TO': 1.82604, 'PRP$': 1.62075, 'VBN': 1.51957, 'VBZ': 1.26025, 'RP': 0.74063, 'MD': 0.72983, 'WP': 0.54811, 'CD': 0.54712, 'WRB': 0.47738, ':': 0.36246, 'WDT': 0.23182, 'EX': 0.20137, 'JJR': 0.18565, 'JJS': 0.11493, 'PDT': 0.10707, 'RBR': 0.08349, 'UH': 0.05795, 'FW': 0.05697, 'NNPS': 0.03733, ')': 0.03045, '(': 0.02947, 'RBS': 0.02063, \"''\": 0.01179, '``': 0.00884, 'WP$': 0.00295, 'POS': 0.00196}\n"
     ]
    }
   ],
   "source": [
    "# Creating a dictionary where the keys are the POS tags and the values are thier frequncies\n",
    "hp_dict_count=dict_creator(hpunq,hp_pos_perc)\n",
    "hp_dict_count\n",
    "#Placing the dict into a list and sorting by valuse then placing it back into a dictionary\n",
    "hp_dict_count_list = sorted(hp_dict_count.items(), key=lambda x:x[1],reverse=True)\n",
    "hp_dict_count_2 = dict(hp_dict_count_list)\n",
    "print(hp_dict_count_2)"
   ]
  },
  {
   "cell_type": "code",
   "execution_count": 123,
   "id": "eabb3477",
   "metadata": {},
   "outputs": [
    {
     "data": {
      "image/png": "[encoded data removed]",
      "text/plain": [
       "<Figure size 4320x720 with 1 Axes>"
      ]
     },
     "metadata": {
      "needs_background": "light"
     },
     "output_type": "display_data"
    }
   ],
   "source": [
    "import matplotlib.pyplot as plt\n",
    "\n",
    "# function to add value labels\n",
    "def addlabels(y):\n",
    "    for i in range(len(y)):\n",
    "        plt.text(i,y[i],y[i],fontweight = 'bold',rotation=45)\n",
    "\n",
    "\n",
    "values =  list(got_dict_count_2.values())\n",
    "names = list(got_dict_count_2.keys())\n",
    "\n",
    "plt.figure(figsize=(60, 10))\n",
    "\n",
    "plt.subplot(131)\n",
    "plt.bar(names,values, color = 'darkorange')\n",
    "plt.ylabel('Count')\n",
    "plt.xlabel('Pos Tag')\n",
    "plt.title('Percentage of POS for Game of Thrones')\n",
    "addlabels(values)\n",
    "plt.show()"
   ]
  },
  {
   "cell_type": "code",
   "execution_count": 124,
   "id": "1ab211cc",
   "metadata": {},
   "outputs": [
    {
     "data": {
      "image/png": "[encoded data removed]",
      "text/plain": [
       "<Figure size 4320x720 with 1 Axes>"
      ]
     },
     "metadata": {
      "needs_background": "light"
     },
     "output_type": "display_data"
    }
   ],
   "source": [
    "import matplotlib.pyplot as plt\n",
    "\n",
    "# function to add value labels\n",
    "def addlabels(y):\n",
    "    for i in range(len(y)):\n",
    "        plt.text(i,y[i],y[i],fontweight = 'bold',rotation=45)\n",
    "\n",
    "\n",
    "values =  list(hp_dict_count_2.values())\n",
    "names = list(hp_dict_count_2.keys())\n",
    "\n",
    "plt.figure(figsize=(60, 10))\n",
    "\n",
    "plt.subplot(131)\n",
    "plt.bar(names,values,color='green')\n",
    "plt.ylabel('Count')\n",
    "plt.xlabel('Pos Tag')\n",
    "plt.title('Percentage of POS for Harry Potter')\n",
    "addlabels(values)\n",
    "plt.show()"
   ]
  },
  {
   "cell_type": "markdown",
   "id": "8b86af76",
   "metadata": {},
   "source": [
    "The percentages of tags between the two books are found to be very different.  While both start with NN (noun singular) Harry potter then goes to NNP (proper noun) and Game of Thrones goes to IN (preposition/subordinating conjunction).  In fact, NNP on Game of Thrones was the 7th in line which is a big difference.  This change could be explained by the use of spells in the Harry Potter which would be tagged as proper nouns.  The use of DT (determiners) was also quite different.  They were found to be used much more in Game of Thrones.  With a little knowledge this is understandable.  There are many titles in Game of thrones, a good example is “the hand of the king”.  These titles will be prefaced with a determiner and are used often instead of names.  Another interesting difference is the PRP (Personal pronoun) which is very low in Harry Potter vs Game of Thrones.  This actually makes sense because Harry Potter is 1st person along with narration while Game of Thrones is written from multiple character viewpoints."
   ]
  },
  {
   "cell_type": "markdown",
   "id": "1056c0ed",
   "metadata": {},
   "source": [
    "# Top adjective phrases "
   ]
  },
  {
   "cell_type": "markdown",
   "id": "81eb4325",
   "metadata": {},
   "source": [
    "The code from the code suggestions was used and slightly altered to give its results for each book using the list of lists of tuples.  It worked by using the regular expressions to isolate the POS tags where two tags are in a row.  The first tag will consist of either RB (Adverb), RBR (adverb comparative), or RBS (adverb superlative) followed by JJ (adjective), JJR (adjective comparative), JJS (adjective superlative).  These two tokens together are an “adjective phrase”.   Using the adjective phrases the frequency was found and the top 50 most common are displayed.  Lastly it shows how many sentences of the entire book contain an adjective phrase.   "
   ]
  },
  {
   "cell_type": "code",
   "execution_count": 125,
   "id": "147c1873",
   "metadata": {},
   "outputs": [
    {
     "name": "stdout",
     "output_type": "stream",
     "text": [
      "Top adjective phrases by frequency: \n",
      "so many  21\n",
      "so much  21\n",
      "too much  17\n",
      "as much  16\n",
      "as large  11\n",
      "not so much  11\n",
      "as black  10\n",
      "too late  10\n",
      "so hard  9\n",
      "so beautiful  8\n",
      "even worse  7\n",
      "too high  6\n",
      "as quick  6\n",
      "as good  6\n",
      "as tall  6\n",
      "not dead  6\n",
      "so bad  6\n",
      "as big  5\n",
      "very quiet  5\n",
      "very good  5\n",
      "ever so much  5\n",
      "as pale  5\n",
      "too young  5\n",
      "so angry  5\n",
      "too old  5\n",
      "So many  5\n",
      "so close  5\n",
      "too many  4\n",
      "so afraid  4\n",
      "so cold  4\n",
      "so dark  4\n",
      "more dangerous  4\n",
      "more important  4\n",
      "not worthy  4\n",
      "so little  4\n",
      "very different  4\n",
      "suddenly afraid  4\n",
      "so young  4\n",
      "not afraid  4\n",
      "not sure  4\n",
      "not ready  4\n",
      "so thick  4\n",
      "so strong  4\n",
      "no bigger  4\n",
      "far north  4\n",
      "as small  4\n",
      "once more  4\n",
      "not hungry  4\n",
      "as strong  4\n",
      "too close  4\n",
      "Length of adjective phrase sentences:  1365\n"
     ]
    }
   ],
   "source": [
    "# Following our NLTK textbook, chapter on Information Extraction--Chunking (https://www.nltk.org/book/ch07.html)\n",
    "\n",
    "# Using CHUNKING to parse sentences \n",
    "# to look for \"adjective phrases\", i.e. phrases (or chunks) that have adverbs and adjectives ('RB'+'JJ')\n",
    "# First step: writing a grammar that defines the POS in the chunk\n",
    "# we name this grammar \"ADJPH\" (\"ADJective PHrase\") using regexes \n",
    "\n",
    "import re\n",
    "grammar_adjph = \"ADJPH: {<RB.?>+<JJ.?>}\"\n",
    "# This regex reads as: \"find groups (\"< >\") of RBs (adverbs) together with groups of JJs (adjectives), with groups defineds as\n",
    "# RBs with any ending (the \".\" is a placeholder or wildcard for the \"R\" and the \"S\" at the end of RBR and RBS, \n",
    "# while \"?\" indicates \"optional character\" so RB can be found alone as well). Same regex operators apply to JJs.\n",
    "\n",
    "# Second step: import the nltk parser to process each sentence\n",
    "chunk_parser_adj = nltk.RegexpParser(grammar_adjph)\n",
    "\n",
    "got_adjph_tags = []\n",
    "for sent in tagged_got_text:\n",
    "    if len(sent) > 0:\n",
    "        tree = chunk_parser_adj.parse(sent)\n",
    "        for subtree in tree.subtrees():\n",
    "            if subtree.label() == 'ADJPH':\n",
    "                got_adjph_tags.append(subtree)\n",
    "                \n",
    "# Visualizing the actual adjective phrase\n",
    "got_adjective_phrases = []\n",
    "for sent in got_adjph_tags:\n",
    "    temp = ''\n",
    "    for w, t in sent:\n",
    "        temp += w+ ' '    \n",
    "    got_adjective_phrases.append(temp)\n",
    "\n",
    "\n",
    "\n",
    "# Following our NLTK textbook, chapter 1 on Language Processing (https://www.nltk.org/book/ch01.html)\n",
    "\n",
    "## FREQUENCY DISTRIBUTIONS\n",
    "# Top 50 adjective phrases\n",
    "got_freq_adjph = nltk.FreqDist(got_adjective_phrases)\n",
    "\n",
    "print('Top adjective phrases by frequency: ')\n",
    "for word, freq in got_freq_adjph.most_common(50):\n",
    "    print(word, freq)\n",
    "\n",
    "            \n",
    "#print the list of our sentences:\n",
    "print('Length of adjective phrase sentences: ', len(got_adjph_tags))"
   ]
  },
  {
   "cell_type": "code",
   "execution_count": 126,
   "id": "0c97a20d",
   "metadata": {},
   "outputs": [
    {
     "name": "stdout",
     "output_type": "stream",
     "text": [
      "Top adjective phrases by frequency: \n",
      "very good  9\n",
      "“ Good  9\n",
      "so much  8\n",
      "very important  5\n",
      "very last  4\n",
      "as much  4\n",
      "so angry  4\n",
      "too —  4\n",
      "too much  4\n",
      "very old  3\n",
      "very angry  3\n",
      "very cold  3\n",
      "there ’  3\n",
      "very difficult  3\n",
      "more interesting  3\n",
      "so close  3\n",
      "almost impossible  3\n",
      "s dangerous  3\n",
      "so busy  3\n",
      "so worried  3\n",
      "perfectly normal  2\n",
      "most boring  2\n",
      "more careful  2\n",
      "very fat  2\n",
      "very nasty  2\n",
      "very long  2\n",
      "very funny  2\n",
      "rather quiet  2\n",
      "yeh great  2\n",
      "abou ’  2\n",
      "re famous  2\n",
      "as normal  2\n",
      "very painful  2\n",
      "quite sure  2\n",
      "so happy  2\n",
      "so many  2\n",
      "very dark  2\n",
      "too many  2\n",
      "too late  2\n",
      "even deeper  2\n",
      "fast asleep  2\n",
      "very strict  2\n",
      "very curious  2\n",
      "m famous  2\n",
      "very interesting  2\n",
      "quite right  2\n",
      "eleven o  2\n",
      "very stern  2\n",
      "particularly famous  2\n",
      "too bad  2\n",
      "Length of adjective phrase sentences:  598\n"
     ]
    }
   ],
   "source": [
    "hp_adjph_tags = []\n",
    "for sent in tagged_hp_text:\n",
    "    if len(sent) > 0:\n",
    "        tree = chunk_parser_adj.parse(sent)\n",
    "        for subtree in tree.subtrees():\n",
    "            if subtree.label() == 'ADJPH':\n",
    "                hp_adjph_tags.append(subtree)\n",
    "                \n",
    "# Visualizing the actual adjective phrase\n",
    "hp_adjective_phrases = []\n",
    "for sent in hp_adjph_tags:\n",
    "    temp = ''\n",
    "    for w, t in sent:\n",
    "        temp += w+ ' '    \n",
    "    hp_adjective_phrases.append(temp)\n",
    "    \n",
    "\n",
    "\n",
    "\n",
    "# Following our NLTK textbook, chapter 1 on Language Processing (https://www.nltk.org/book/ch01.html)\n",
    "\n",
    "## FREQUENCY DISTRIBUTIONS\n",
    "# Top 50 adjective phrases\n",
    "hp_freq_adjph = nltk.FreqDist(hp_adjective_phrases)\n",
    "\n",
    "print('Top adjective phrases by frequency: ')\n",
    "for word, freq in hp_freq_adjph.most_common(50):\n",
    "    print(word, freq)\n",
    "\n",
    "            \n",
    "#print the list of our sentences:\n",
    "print('Length of adjective phrase sentences: ', len(hp_adjph_tags))"
   ]
  },
  {
   "cell_type": "markdown",
   "id": "3e26fe97",
   "metadata": {},
   "source": [
    "The adjective phrases use the adverb to change the overall value of the adjective.  It can negate the meaning, “not dead” is a great example.  Or it was used to amplify the overall meaning, “very good”.  The top 50 most common examples give a good insight into the books themselves with Game of Thrones tending more towards so, not, more, and as while Harry Potter uses very and too.  "
   ]
  },
  {
   "cell_type": "markdown",
   "id": "636be6fc",
   "metadata": {},
   "source": [
    "# Top adverb phrases"
   ]
  },
  {
   "cell_type": "markdown",
   "id": "1a836573",
   "metadata": {},
   "source": [
    "Again, code from the code suggestions was used and slightly altered to give its results for each book using the list of lists of tuples.  This time regular expressions found two tags consist of either RB (Adverb), RBR (adverb comparative), or RBS (adverb superlative) followed by the same.  These two tokens together are an “adverb phrase”.   Using the adverb phrase the frequency was found and the top 50 most common were displayed.  Lastly it shows how many sentences of the entire book contain an adverb phrase.   "
   ]
  },
  {
   "cell_type": "code",
   "execution_count": 127,
   "id": "e183c7dc",
   "metadata": {},
   "outputs": [
    {
     "name": "stdout",
     "output_type": "stream",
     "text": [
      "Top adverb phrases by frequency: \n",
      "as well  118\n",
      "not even  35\n",
      "not so  28\n",
      "so long  27\n",
      "so much  20\n",
      "n't even  17\n",
      "as soon  15\n",
      "soon enough  13\n",
      "long enough  11\n",
      "so far  11\n",
      "not here  11\n",
      "no longer  10\n",
      "too long  10\n",
      "Very well  10\n",
      "ever so  9\n",
      "Just so  9\n",
      "not quite  8\n",
      "almost as  8\n",
      "not too  8\n",
      "as far  8\n",
      "as much  7\n",
      "not yet  7\n",
      "so well  7\n",
      "So long  7\n",
      "up here  7\n",
      "yet still  7\n",
      "well enough  7\n",
      "Even now  7\n",
      "Yet now  6\n",
      "once again  6\n",
      "not truly  6\n",
      "not always  6\n",
      "not now  6\n",
      "here now  6\n",
      "very well  6\n",
      "right there  5\n",
      "well ahead  5\n",
      "as easily  5\n",
      "down there  5\n",
      "rather not  5\n",
      "not there  5\n",
      "so badly  5\n",
      "even now  5\n",
      "back again  4\n",
      "not just  4\n",
      "never so  4\n",
      "long ago  4\n",
      "yet not  4\n",
      "not often  4\n",
      "too well  4\n",
      "Length of adverb phrase sentences:  1294\n"
     ]
    }
   ],
   "source": [
    "# Now we look for \"adverb phrases\" or chunks that have 2 consecutive adverbs ('RB')\n",
    "# First step: writing a grammar that defines POS rules of the adverb phrase the chunk\n",
    "# we name this grammar \"ADVPH\" (\"ADVerb PHrase\")\n",
    "grammar_advph = \"ADVPH: {<RB>+<RB>}\"\n",
    "\n",
    "# Second step: import the nltk parser to process each sentence\n",
    "chunk_parser_adv = nltk.RegexpParser(grammar_advph)\n",
    "\n",
    "got_advph_tags = []\n",
    "for sent in tagged_got_text:\n",
    "    if len(sent) > 0:\n",
    "        tree = chunk_parser_adv.parse(sent)\n",
    "        for subtree in tree.subtrees():\n",
    "            if subtree.label() == 'ADVPH':\n",
    "                got_advph_tags.append(subtree)\n",
    "                \n",
    "# Visualizing the actual adjective phrase\n",
    "got_adverb_phrases = []\n",
    "for sent in got_advph_tags:\n",
    "    temp = ''\n",
    "    for w, t in sent:\n",
    "        temp += w+ ' '    \n",
    "    got_adverb_phrases.append(temp)\n",
    "\n",
    "\n",
    "# top 50 adjective phrases\n",
    "got_freq_advph = nltk.FreqDist(got_adverb_phrases)\n",
    "\n",
    "print('Top adverb phrases by frequency: ')\n",
    "for word, freq in got_freq_advph.most_common(50):\n",
    "    print(word, freq)\n",
    "\n",
    "            \n",
    "#print the list of our sentences:\n",
    "print('Length of adverb phrase sentences: ', len(got_advph_tags))"
   ]
  },
  {
   "cell_type": "code",
   "execution_count": 128,
   "id": "d73ce23b",
   "metadata": {},
   "outputs": [
    {
     "name": "stdout",
     "output_type": "stream",
     "text": [
      "Top adverb phrases by frequency: \n",
      "“ Now  19\n",
      "“ Well  14\n",
      "m not  10\n",
      "as long  8\n",
      "as well  7\n",
      "never even  6\n",
      "only just  6\n",
      "so much  5\n",
      "just as  5\n",
      "so far  5\n",
      "back down  4\n",
      "not only  4\n",
      "very well  4\n",
      "all right  4\n",
      "very fast  4\n",
      "as fast  4\n",
      "up here  4\n",
      "here somewhere  4\n",
      "quite still  4\n",
      "still there  3\n",
      "ve never  3\n",
      "not even  3\n",
      "so long  3\n",
      "as much  3\n",
      "back again  3\n",
      "up there  3\n",
      "very much  2\n",
      "hardly ever  2\n",
      "as still  2\n",
      "very long  2\n",
      "“ Nearly  2\n",
      "s here  2\n",
      "Just then  2\n",
      "over again  2\n",
      "back here  2\n",
      "never exactly  2\n",
      "right down  2\n",
      "there somewhere  2\n",
      "just now  2\n",
      "too much  2\n",
      "now so  2\n",
      "yet again  2\n",
      "almost as  2\n",
      "ever so  2\n",
      "not very  2\n",
      "re nearly there  2\n",
      "as quickly  2\n",
      "already there  2\n",
      "straight back  2\n",
      "very hard  2\n",
      "Length of adverb phrase sentences:  431\n"
     ]
    }
   ],
   "source": [
    "hp_advph_tags = []\n",
    "for sent in tagged_hp_text:\n",
    "    if len(sent) > 0:\n",
    "        tree = chunk_parser_adv.parse(sent)\n",
    "        for subtree in tree.subtrees():\n",
    "            if subtree.label() == 'ADVPH':\n",
    "                hp_advph_tags.append(subtree)\n",
    "                \n",
    "# Visualizing the actual adjective phrase\n",
    "hp_adverb_phrases = []\n",
    "for sent in hp_advph_tags:\n",
    "    temp = ''\n",
    "    for w, t in sent:\n",
    "        temp += w+ ' '    \n",
    "    hp_adverb_phrases.append(temp)\n",
    "\n",
    "\n",
    "# top 50 adjective phrases\n",
    "hp_freq_advph = nltk.FreqDist(hp_adverb_phrases)\n",
    "\n",
    "print('Top adverb phrases by frequency: ')\n",
    "for word, freq in hp_freq_advph.most_common(50):\n",
    "    print(word, freq)\n",
    "\n",
    "            \n",
    "#print the list of our sentences:\n",
    "print('Length of adverb phrase sentences: ', len(hp_advph_tags))"
   ]
  },
  {
   "cell_type": "markdown",
   "id": "0a509dc0",
   "metadata": {},
   "source": [
    "Adverb phrases change either the overall meaning of a sentence like “not just”, “Much had changed not just good” The not just makes this show that at least some of the change was bad.  Adverb phrases also can change the meaning of each other.  “it is there at the house”, implies an item is at the house in a known location while “it is there somewhere at the house” implies an item is lost but it must be at the house.  The use of somewhere following there changes the mean of there. The use of which adverb phrase can dictate a sentence. “so much” vs “too much”.  “We have so much corn”, “We have too much corn”, the overall sentence is changed greatly."
   ]
  },
  {
   "cell_type": "markdown",
   "id": "4b5072e1",
   "metadata": {},
   "source": [
    "# Top determiner Noun phrases"
   ]
  },
  {
   "cell_type": "markdown",
   "id": "746d0294",
   "metadata": {},
   "source": [
    "Lastly, to show another type of phrase that could be isolated the code was altered changing the regular expression.  The POS tags used were a DT (determiner) followed by NN (noun singular), NNP (proper noun singular), NNPS (proper noun plural), or NNS (noun plural).  These two tokens are “determiner noun phrases”.  Using the determiner noun phrases the frequency was found and the top 50 most common were displayed.  Lastly it shows how many sentences of the entire book contain a determiner noun phrases. "
   ]
  },
  {
   "cell_type": "code",
   "execution_count": 129,
   "id": "57d4f1b7",
   "metadata": {},
   "outputs": [
    {
     "name": "stdout",
     "output_type": "stream",
     "text": [
      "Top determiner noun phrases by frequency: \n",
      "the king  262\n",
      "a man  163\n",
      "the Wall  130\n",
      "the door  119\n",
      "the boy  115\n",
      "the way  113\n",
      "the man  106\n",
      "the queen  105\n",
      "a moment  100\n",
      "The king  96\n",
      "the gods  82\n",
      "the Hand  77\n",
      "the castle  76\n",
      "the Lannisters  76\n",
      "the rest  75\n",
      "the Night  74\n",
      "the time  74\n",
      "the night  72\n",
      "the others  72\n",
      "the dragon  71\n",
      "the Eyrie  69\n",
      "the world  69\n",
      "no one  68\n",
      "the ground  67\n",
      "the Seven  66\n",
      "the room  66\n",
      "the Lord  64\n",
      "the yard  64\n",
      "the King  63\n",
      "the table  62\n",
      "the air  60\n",
      "the realm  60\n",
      "a boy  59\n",
      "the fire  59\n",
      "the end  58\n",
      "the Dothraki  58\n",
      "the walls  57\n",
      "the river  57\n",
      "the truth  57\n",
      "the sun  56\n",
      "No one  55\n",
      "the window  55\n",
      "the day  54\n",
      "the Vale  53\n",
      "the hall  53\n",
      "the sword  51\n",
      "the kingsroad  51\n",
      "the city  51\n",
      "the trees  50\n",
      "a woman  49\n",
      "Length of determiner noun phrase sentences:  21148\n"
     ]
    }
   ],
   "source": [
    "# Now we look for \"adverb phrases\" or chunks that have 2 consecutive adverbs ('RB')\n",
    "# First step: writing a grammar that defines POS rules of the adverb phrase the chunk\n",
    "# we name this grammar \"ADVPH\" (\"ADVerb PHrase\")\n",
    "grammar_dtnoun = \"DTNOUN: {<DT>+<NN.?.?>}\"\n",
    "\n",
    "# Second step: import the nltk parser to process each sentence\n",
    "chunk_parser_noun = nltk.RegexpParser(grammar_dtnoun)\n",
    "\n",
    "got_dtnoun_tags = []\n",
    "for sent in tagged_got_text:\n",
    "    if len(sent) > 0:\n",
    "        tree = chunk_parser_noun.parse(sent)\n",
    "        for subtree in tree.subtrees():\n",
    "            if subtree.label() == 'DTNOUN':\n",
    "                got_dtnoun_tags.append(subtree)\n",
    "                \n",
    "# Visualizing the actual adjective phrase\n",
    "got_dtnoun_phrases = []\n",
    "for sent in got_dtnoun_tags:\n",
    "    temp = ''\n",
    "    for w, t in sent:\n",
    "        temp += w+ ' '    \n",
    "    got_dtnoun_phrases.append(temp)\n",
    "    \n",
    "\n",
    "# top 50 adjective phrases\n",
    "got_freq_dtnoun = nltk.FreqDist(got_dtnoun_phrases)\n",
    "\n",
    "print('Top determiner noun phrases by frequency: ')\n",
    "for word, freq in got_freq_dtnoun.most_common(50):\n",
    "    print(word, freq)\n",
    "\n",
    "            \n",
    "#print the list of our sentences:\n",
    "print('Length of determiner noun phrase sentences: ', len(got_dtnoun_tags))"
   ]
  },
  {
   "cell_type": "code",
   "execution_count": 130,
   "id": "d49160f0",
   "metadata": {},
   "outputs": [
    {
     "name": "stdout",
     "output_type": "stream",
     "text": [
      "Top determiner noun phrases by frequency: \n",
      "the door  63\n",
      "an ’  53\n",
      "a bit  46\n",
      "the Stone  43\n",
      "a lot  36\n",
      "the Dursleys  36\n",
      "the ground  34\n",
      "the way  34\n",
      "the air  32\n",
      "the end  32\n",
      "the mirror  28\n",
      "the school  27\n",
      "the floor  27\n",
      "the train  27\n",
      "the room  26\n",
      "the boy  24\n",
      "the wall  24\n",
      "the cloak  23\n",
      "the hat  21\n",
      "the back  20\n",
      "the House  19\n",
      "the hall  18\n",
      "the table  18\n",
      "no one  18\n",
      "the troll  18\n",
      "the rest  17\n",
      "this time  17\n",
      "the corridor  17\n",
      "the window  16\n",
      "the house  16\n",
      "the corner  16\n",
      "an owl  16\n",
      "the letter  16\n",
      "the Gryffindor  16\n",
      "the Quaffle  16\n",
      "the glass  15\n",
      "the library  15\n",
      "the castle  15\n",
      "the Snitch  15\n",
      "the street  14\n",
      "the fire  14\n",
      "the Great  14\n",
      "the walls  13\n",
      "a moment  13\n",
      "the moment  13\n",
      "the kitchen  13\n",
      "the ceiling  13\n",
      "a dragon  13\n",
      "the portrait  13\n",
      "The Dursleys  12\n",
      "Length of determiner noun phrase sentences:  4517\n"
     ]
    }
   ],
   "source": [
    "hp_dtnoun_tags = []\n",
    "for sent in tagged_hp_text:\n",
    "    if len(sent) > 0:\n",
    "        tree = chunk_parser_noun.parse(sent)\n",
    "        for subtree in tree.subtrees():\n",
    "            if subtree.label() == 'DTNOUN':\n",
    "                hp_dtnoun_tags.append(subtree)\n",
    "                \n",
    "# Visualizing the actual adjective phrase\n",
    "hp_dtnoun_phrases = []\n",
    "for sent in hp_dtnoun_tags:\n",
    "    temp = ''\n",
    "    for w, t in sent:\n",
    "        temp += w+ ' '    \n",
    "    hp_dtnoun_phrases.append(temp)\n",
    "    \n",
    "\n",
    "\n",
    "# top 50 adjective phrases\n",
    "hp_freq_dtnoun = nltk.FreqDist(hp_dtnoun_phrases)\n",
    "\n",
    "print('Top determiner noun phrases by frequency: ')\n",
    "for word, freq in hp_freq_dtnoun.most_common(50):\n",
    "    print(word, freq)\n",
    "\n",
    "            \n",
    "#print the list of our sentences:\n",
    "print('Length of determiner noun phrase sentences: ', len(hp_dtnoun_tags))"
   ]
  },
  {
   "cell_type": "markdown",
   "id": "52083cdc",
   "metadata": {},
   "source": [
    "The determiner noun phrases give context to the books.  They show a look into what the books are about.  Game of Thrones is a medieval fantasy book with other worldly aspects slightly sown in.  While Harry Potter is taking place at a school with magic.  This is a different view into the books that would not be seen when just examining the nouns alone (which was also looked at and shown later in this analysis). This section was also done as a way to expand the code and for use in average sentence comparison."
   ]
  },
  {
   "cell_type": "markdown",
   "id": "28c05d77",
   "metadata": {},
   "source": [
    "# Average sentance length comparison by sentences containing different types of phrases"
   ]
  },
  {
   "cell_type": "markdown",
   "id": "e68fabe1",
   "metadata": {},
   "source": [
    "The number of tokens in each sentence was obtained from the list of lists of tuples and the sum of the number of tokens was dived by the number of sentences to obtain an average number tokens in each sentence for the entire book.  "
   ]
  },
  {
   "cell_type": "code",
   "execution_count": 131,
   "id": "0ec57eb6",
   "metadata": {},
   "outputs": [
    {
     "data": {
      "text/plain": [
       "12.696040258595357"
      ]
     },
     "execution_count": 131,
     "metadata": {},
     "output_type": "execute_result"
    }
   ],
   "source": [
    "## avg number of tokens in any sentence in GoT.\n",
    "got_sent_count = []\n",
    "for sent in tagged_got_text:\n",
    "    scount = len(sent)\n",
    "    got_sent_count.append(scount)\n",
    "got_avg_sent_len = sum(got_sent_count)/len(got_sent_count)\n",
    "got_avg_sent_len"
   ]
  },
  {
   "cell_type": "code",
   "execution_count": 132,
   "id": "cd78f6a7",
   "metadata": {},
   "outputs": [
    {
     "data": {
      "text/plain": [
       "15.793515358361775"
      ]
     },
     "execution_count": 132,
     "metadata": {},
     "output_type": "execute_result"
    }
   ],
   "source": [
    "## avg number of tokens in any sentence in HP.\n",
    "hp_sent_count = []\n",
    "for sent in tagged_hp_text:\n",
    "    scount = len(sent)\n",
    "    hp_sent_count.append(scount)\n",
    "hp_avg_sent_len = sum(hp_sent_count)/len(hp_sent_count)\n",
    "hp_avg_sent_len"
   ]
  },
  {
   "cell_type": "markdown",
   "id": "5ddf44f3",
   "metadata": {},
   "source": [
    "The sentence containing the adjective phrases parsed out previously were obtained.  For each sentence the number of tokens it contained was counted and placed into a list, the sum of the list was dived by the length of the list giving the average number of tokens per sentence, of sentences that contain an adjective phrase.  This was done for both books."
   ]
  },
  {
   "cell_type": "code",
   "execution_count": 133,
   "id": "04954d8f",
   "metadata": {},
   "outputs": [
    {
     "name": "stdout",
     "output_type": "stream",
     "text": [
      "1365\n",
      "[('His', 'PRP$'), ('voice', 'NN'), ('echoed', 'NN'), (',', ','), ('too', 'RB'), ('loud', 'JJ'), ('in', 'IN'), ('the', 'DT'), ('twilit', 'NN'), ('forest', 'NN'), ('.', '.')]\n"
     ]
    }
   ],
   "source": [
    "#collecting all sentences containing an \"adjective phrases\",\n",
    "#i.e. phrases (or chunks) that have adverbs and adjectives ('RB'+'JJ')\n",
    "#from GoT\n",
    "got_adjph_sent_tokes = []\n",
    "for sent in tagged_got_text:\n",
    "    if len(sent) > 0:\n",
    "        tree = chunk_parser_adj.parse(sent)\n",
    "        for subtree in tree.subtrees():\n",
    "            if subtree.label() == 'ADJPH':\n",
    "                got_adjph_sent_tokes.append(sent)\n",
    "print(len(got_adjph_sent_tokes))\n",
    "print(got_adjph_sent_tokes[0])"
   ]
  },
  {
   "cell_type": "code",
   "execution_count": 134,
   "id": "bd10cb47",
   "metadata": {},
   "outputs": [
    {
     "data": {
      "text/plain": [
       "19.473992673992672"
      ]
     },
     "execution_count": 134,
     "metadata": {},
     "output_type": "execute_result"
    }
   ],
   "source": [
    "## avg number of tokens in any sentence containing a \"adjective phrase\" from GoT.\n",
    "got_adjph_sent_count = []\n",
    "for sent in got_adjph_sent_tokes:\n",
    "    scount = len(sent)\n",
    "    got_adjph_sent_count.append(scount)\n",
    "got_adjph_avg_sent_len = sum(got_adjph_sent_count)/len(got_adjph_sent_count)\n",
    "got_adjph_avg_sent_len"
   ]
  },
  {
   "cell_type": "code",
   "execution_count": 135,
   "id": "7f8dc37c",
   "metadata": {},
   "outputs": [
    {
     "name": "stdout",
     "output_type": "stream",
     "text": [
      "598\n",
      "[('THE', 'DT'), ('BOY', 'NNP'), ('WHO', 'NNP'), ('LIVED', 'NNP'), ('Mr.', 'NNP'), ('and', 'CC'), ('Mrs.', 'NNP'), ('Dursley', 'NNP'), (',', ','), ('of', 'IN'), ('number', 'NN'), ('four', 'CD'), (',', ','), ('Privet', 'NNP'), ('Drive', 'NNP'), (',', ','), ('were', 'VBD'), ('proud', 'JJ'), ('to', 'TO'), ('say', 'VB'), ('that', 'IN'), ('they', 'PRP'), ('were', 'VBD'), ('perfectly', 'RB'), ('normal', 'JJ'), (',', ','), ('thank', 'NN'), ('you', 'PRP'), ('very', 'RB'), ('much', 'RB'), ('.', '.')]\n"
     ]
    }
   ],
   "source": [
    "#collecting all sentences containing an \"adjective phrases\",\n",
    "#i.e. phrases (or chunks) that have adverbs and adjectives ('RB'+'JJ')\n",
    "#from HP\n",
    "hp_adjph_sent_tokes = []\n",
    "for sent in tagged_hp_text:\n",
    "    if len(sent) > 0:\n",
    "        tree = chunk_parser_adj.parse(sent)\n",
    "        for subtree in tree.subtrees():\n",
    "            if subtree.label() == 'ADJPH':\n",
    "                hp_adjph_sent_tokes.append(sent)\n",
    "print(len(hp_adjph_sent_tokes))\n",
    "print(hp_adjph_sent_tokes[0])"
   ]
  },
  {
   "cell_type": "code",
   "execution_count": 136,
   "id": "9bff5017",
   "metadata": {},
   "outputs": [
    {
     "data": {
      "text/plain": [
       "26.17056856187291"
      ]
     },
     "execution_count": 136,
     "metadata": {},
     "output_type": "execute_result"
    }
   ],
   "source": [
    "## avg number of tokens in any sentence containing a adjective phrase from HP.\n",
    "hp_adjph_sent_count = []\n",
    "for sent in hp_adjph_sent_tokes:\n",
    "    scount = len(sent)\n",
    "    hp_adjph_sent_count.append(scount)\n",
    "hp_adjph_avg_sent_len = sum(hp_adjph_sent_count)/len(hp_adjph_sent_count)\n",
    "hp_adjph_avg_sent_len"
   ]
  },
  {
   "cell_type": "markdown",
   "id": "cc8b86d2",
   "metadata": {},
   "source": [
    "The sentences containing an adverb phrase parsed out previously were obtained.  For each sentence the number of tokens it contained was counted and placed into a list, the sum of the list was dived by the length of the list giving the average number of tokens per sentence, of sentences that contain an adverb phrase.  This was done for both books."
   ]
  },
  {
   "cell_type": "code",
   "execution_count": 137,
   "id": "cb1ebf83",
   "metadata": {},
   "outputs": [
    {
     "name": "stdout",
     "output_type": "stream",
     "text": [
      "1294\n",
      "[('He', 'PRP'), ('wished', 'VBD'), ('it', 'PRP'), ('had', 'VBD'), ('been', 'VBN'), ('later', 'RB'), ('rather', 'RB'), ('than', 'IN'), ('sooner', 'NN'), ('.', '.')]\n"
     ]
    }
   ],
   "source": [
    "#collecting all sentences containing an \"adverb phrases\" \n",
    "#or chunks that have 2 consecutive adverbs ('RB')\n",
    "#from GoT\n",
    "got_advph_sent_tokes = []\n",
    "for sent in tagged_got_text:\n",
    "    if len(sent) > 0:\n",
    "        tree = chunk_parser_adv.parse(sent)\n",
    "        for subtree in tree.subtrees():\n",
    "            if subtree.label() == 'ADVPH':\n",
    "                got_advph_sent_tokes.append(sent)\n",
    "print(len(got_advph_sent_tokes))\n",
    "print(got_advph_sent_tokes[0])"
   ]
  },
  {
   "cell_type": "code",
   "execution_count": 138,
   "id": "032ffa9a",
   "metadata": {},
   "outputs": [
    {
     "data": {
      "text/plain": [
       "19.666151468315302"
      ]
     },
     "execution_count": 138,
     "metadata": {},
     "output_type": "execute_result"
    }
   ],
   "source": [
    "## avg number of tokens in any sentence containing a \"adverb phrases\" from GoT.\n",
    "got_advph_sent_count = []\n",
    "for sent in got_advph_sent_tokes:\n",
    "    scount = len(sent)\n",
    "    got_advph_sent_count.append(scount)\n",
    "got_advph_avg_sent_len = sum(got_advph_sent_count)/len(got_advph_sent_count)\n",
    "got_advph_avg_sent_len"
   ]
  },
  {
   "cell_type": "code",
   "execution_count": 139,
   "id": "522f1414",
   "metadata": {},
   "outputs": [
    {
     "name": "stdout",
     "output_type": "stream",
     "text": [
      "431\n",
      "[('THE', 'DT'), ('BOY', 'NNP'), ('WHO', 'NNP'), ('LIVED', 'NNP'), ('Mr.', 'NNP'), ('and', 'CC'), ('Mrs.', 'NNP'), ('Dursley', 'NNP'), (',', ','), ('of', 'IN'), ('number', 'NN'), ('four', 'CD'), (',', ','), ('Privet', 'NNP'), ('Drive', 'NNP'), (',', ','), ('were', 'VBD'), ('proud', 'JJ'), ('to', 'TO'), ('say', 'VB'), ('that', 'IN'), ('they', 'PRP'), ('were', 'VBD'), ('perfectly', 'RB'), ('normal', 'JJ'), (',', ','), ('thank', 'NN'), ('you', 'PRP'), ('very', 'RB'), ('much', 'RB'), ('.', '.')]\n"
     ]
    }
   ],
   "source": [
    "#collecting all sentences containing an \"adverb phrases\" \n",
    "#or chunks that have 2 consecutive adverbs ('RB')\n",
    "#from hp\n",
    "hp_advph_sent_tokes = []\n",
    "for sent in tagged_hp_text:\n",
    "    if len(sent) > 0:\n",
    "        tree = chunk_parser_adv.parse(sent)\n",
    "        for subtree in tree.subtrees():\n",
    "            if subtree.label() == 'ADVPH':\n",
    "                hp_advph_sent_tokes.append(sent)\n",
    "print(len(hp_advph_sent_tokes))\n",
    "print(hp_advph_sent_tokes[0])"
   ]
  },
  {
   "cell_type": "code",
   "execution_count": 140,
   "id": "144a7cd6",
   "metadata": {},
   "outputs": [
    {
     "data": {
      "text/plain": [
       "25.726218097447795"
      ]
     },
     "execution_count": 140,
     "metadata": {},
     "output_type": "execute_result"
    }
   ],
   "source": [
    "## avg number of tokens in any sentence containing a \"adverb phrases\" from hp.\n",
    "hp_advph_sent_count = []\n",
    "for sent in hp_advph_sent_tokes:\n",
    "    scount = len(sent)\n",
    "    hp_advph_sent_count.append(scount)\n",
    "hp_advph_avg_sent_len = sum(hp_advph_sent_count)/len(hp_advph_sent_count)\n",
    "hp_advph_avg_sent_len"
   ]
  },
  {
   "cell_type": "markdown",
   "id": "d5321190",
   "metadata": {},
   "source": [
    "The sentence containing the determiner noun phrases parsed out previously were obtained.  For each sentence the number of tokens it contained was counted and placed into a list, the sum of the list was divided by the length of the list, giving the average number of tokens per sentence, of sentences that contain a determiner noun phrase.  This was done for both books."
   ]
  },
  {
   "cell_type": "code",
   "execution_count": 141,
   "id": "9fdb83d7",
   "metadata": {},
   "outputs": [
    {
     "name": "stdout",
     "output_type": "stream",
     "text": [
      "21148\n",
      "[('A', 'DT'), ('Game', 'NNP'), ('Of', 'IN'), ('Thrones', 'NNP'), ('Book', 'NNP'), ('One', 'NNP'), ('of', 'IN'), ('A', 'NNP'), ('Song', 'NNP'), ('of', 'IN'), ('Ice', 'NNP'), ('and', 'CC'), ('Fire', 'NNP'), ('By', 'IN'), ('George', 'NNP'), ('R.', 'NNP'), ('R.', 'NNP'), ('Martin', 'NNP'), ('PROLOGUE', 'NNP'), ('We', 'PRP'), ('should', 'MD'), ('start', 'VB'), ('back', 'RB'), (',', ','), ('Gared', 'NNP'), ('urged', 'VBD'), ('as', 'IN'), ('the', 'DT'), ('woods', 'NNS'), ('began', 'VBD'), ('to', 'TO'), ('grow', 'VB'), ('dark', 'NN'), ('around', 'IN'), ('them', 'PRP'), ('.', '.')]\n"
     ]
    }
   ],
   "source": [
    "#collecting all sentences containing an \"determiner noun phrases\" \n",
    "#or chunks that have a determiner followed by a noun('DT'+'NN')\n",
    "#from GoT\n",
    "got_dtnoun_sent_tokes = []\n",
    "for sent in tagged_got_text:\n",
    "    if len(sent) > 0:\n",
    "        tree = chunk_parser_noun.parse(sent)\n",
    "        for subtree in tree.subtrees():\n",
    "            if subtree.label() == 'DTNOUN':\n",
    "                got_dtnoun_sent_tokes.append(sent)\n",
    "print(len(got_dtnoun_sent_tokes))\n",
    "print(got_dtnoun_sent_tokes[0])"
   ]
  },
  {
   "cell_type": "code",
   "execution_count": 142,
   "id": "35317b4f",
   "metadata": {},
   "outputs": [
    {
     "data": {
      "text/plain": [
       "21.028418763003593"
      ]
     },
     "execution_count": 142,
     "metadata": {},
     "output_type": "execute_result"
    }
   ],
   "source": [
    "## avg number of tokens in any sentence containing a \"adverb phrases\" from GoT.\n",
    "got_dtnoun_sent_count = []\n",
    "for sent in got_dtnoun_sent_tokes:\n",
    "    scount = len(sent)\n",
    "    got_dtnoun_sent_count.append(scount)\n",
    "got_dtnoun_avg_sent_len = sum(got_dtnoun_sent_count)/len(got_dtnoun_sent_count)\n",
    "got_dtnoun_avg_sent_len"
   ]
  },
  {
   "cell_type": "code",
   "execution_count": 143,
   "id": "7db264d7",
   "metadata": {},
   "outputs": [
    {
     "name": "stdout",
     "output_type": "stream",
     "text": [
      "4517\n",
      "[('THE', 'DT'), ('BOY', 'NNP'), ('WHO', 'NNP'), ('LIVED', 'NNP'), ('Mr.', 'NNP'), ('and', 'CC'), ('Mrs.', 'NNP'), ('Dursley', 'NNP'), (',', ','), ('of', 'IN'), ('number', 'NN'), ('four', 'CD'), (',', ','), ('Privet', 'NNP'), ('Drive', 'NNP'), (',', ','), ('were', 'VBD'), ('proud', 'JJ'), ('to', 'TO'), ('say', 'VB'), ('that', 'IN'), ('they', 'PRP'), ('were', 'VBD'), ('perfectly', 'RB'), ('normal', 'JJ'), (',', ','), ('thank', 'NN'), ('you', 'PRP'), ('very', 'RB'), ('much', 'RB'), ('.', '.')]\n"
     ]
    }
   ],
   "source": [
    "#collecting all sentences containing an \"determiner noun phrases\" \n",
    "#or chunks that have a determiner followed by a noun('DT'+'NN')\n",
    "#from GoT\n",
    "hp_dtnoun_sent_tokes = []\n",
    "for sent in tagged_hp_text:\n",
    "    if len(sent) > 0:\n",
    "        tree = chunk_parser_noun.parse(sent)\n",
    "        for subtree in tree.subtrees():\n",
    "            if subtree.label() == 'DTNOUN':\n",
    "                hp_dtnoun_sent_tokes.append(sent)\n",
    "print(len(hp_dtnoun_sent_tokes))\n",
    "print(hp_dtnoun_sent_tokes[0])"
   ]
  },
  {
   "cell_type": "code",
   "execution_count": 144,
   "id": "2557c9f8",
   "metadata": {},
   "outputs": [
    {
     "data": {
      "text/plain": [
       "27.003542174009297"
      ]
     },
     "execution_count": 144,
     "metadata": {},
     "output_type": "execute_result"
    }
   ],
   "source": [
    "## avg number of tokens in any sentence containing a \"determiner noun phrases\" from GoT.\n",
    "hp_dtnoun_sent_count = []\n",
    "for sent in hp_dtnoun_sent_tokes:\n",
    "    scount = len(sent)\n",
    "    hp_dtnoun_sent_count.append(scount)\n",
    "hp_dtnoun_avg_sent_len = sum(hp_dtnoun_sent_count)/len(hp_dtnoun_sent_count)\n",
    "hp_dtnoun_avg_sent_len"
   ]
  },
  {
   "cell_type": "markdown",
   "id": "1b6d57a5",
   "metadata": {},
   "source": [
    "The average sentence lengths obtained were placed into a list after being rounded.  This list was used to create a graph comparing average sentence lengths containing different phrase types."
   ]
  },
  {
   "cell_type": "code",
   "execution_count": 145,
   "id": "104bd3ec",
   "metadata": {},
   "outputs": [],
   "source": [
    "#avg sent length rounded and placed into a list\n",
    "avg_sents = [round(got_avg_sent_len,1) ,round(hp_avg_sent_len,1)\n",
    "             ,round(got_adjph_avg_sent_len,1),round(hp_adjph_avg_sent_len,1)\n",
    "             ,round(got_advph_avg_sent_len,1),round(hp_advph_avg_sent_len,1)\n",
    "             ,round(got_dtnoun_avg_sent_len,1),round(hp_dtnoun_avg_sent_len,1)]"
   ]
  },
  {
   "cell_type": "code",
   "execution_count": 146,
   "id": "c5b63c92",
   "metadata": {},
   "outputs": [
    {
     "data": {
      "image/png": "[encoded data removed]",
      "text/plain": [
       "<Figure size 7200x1080 with 1 Axes>"
      ]
     },
     "metadata": {
      "needs_background": "light"
     },
     "output_type": "display_data"
    }
   ],
   "source": [
    "import matplotlib.pyplot as plt\n",
    "\n",
    "#function to add value labels\n",
    "def addlabels(y):\n",
    "    for i in range(len(y)):\n",
    "        plt.text(i,y[i],y[i],fontweight = 'bold')\n",
    "\n",
    "\n",
    "values =  avg_sents\n",
    "names = ['All sentences GoT'\n",
    "         ,'All sentences HP'\n",
    "         ,'Sentences with adjective phrases GoT'\n",
    "         ,'Sentences with adjective phrases HP'\n",
    "         ,'Sentences with adverb phrases Got'\n",
    "         ,'Sentences with adverb phrases HP'\n",
    "         ,'Sentences with determiner noun phrases GoT'\n",
    "         ,'Sentences with determiner noun phrases HP'\n",
    "        ]\n",
    "colors = ['darkorange','green','darkorange','green','darkorange','green','darkorange','green', ]\n",
    "plt.figure(figsize=(100, 15))\n",
    "\n",
    "plt.subplot(131)\n",
    "plt.bar(names\n",
    "       ,values\n",
    "        , color = colors\n",
    "       )\n",
    "plt.ylabel('Average number of tokens')\n",
    "plt.xlabel('Types of phrases in sentence')\n",
    "plt.title('comparing average sentence lengths containing different phrase types')\n",
    "addlabels(values)\n",
    "plt.show()"
   ]
  },
  {
   "cell_type": "markdown",
   "id": "4fbf7881",
   "metadata": {},
   "source": [
    "Overall, the average sentence length in Game of Thrones was found to be lower than that of Harry Potter.  Any sentence that contained one of the phrase types (adjective phrase, adverb phrase, determiner noun phrase) was also much longer than that of the average sentence length found in the book.  "
   ]
  },
  {
   "cell_type": "markdown",
   "id": "75e8c6b2",
   "metadata": {},
   "source": [
    "# Top 50 tokens by POS tags"
   ]
  },
  {
   "cell_type": "markdown",
   "id": "48a9523b",
   "metadata": {},
   "source": [
    "Code obtained from the code suggestion was altered to find the top 50 tokens of a type of POS tag from each book.  The tags used were all adjectives, all adverbs, all nouns, and all verbs.  The code creates an empty list and using a loop checks the tuples in each sentence to see if its pos matches a predetermined list if there is a match it is added to the empty list the using nltk freqdist and most common the 50 with the highest number of occurrences are pulled out and displayed."
   ]
  },
  {
   "cell_type": "code",
   "execution_count": 147,
   "id": "ca05ec30",
   "metadata": {},
   "outputs": [
    {
     "name": "stdout",
     "output_type": "stream",
     "text": [
      "black 354\n",
      "old 306\n",
      "other 256\n",
      "dead 241\n",
      "long 235\n",
      "last 233\n",
      "own 230\n",
      "more 223\n",
      "little 218\n",
      "good 218\n",
      "great 201\n",
      "red 193\n",
      "first 182\n",
      "white 178\n",
      "high 174\n",
      "small 167\n",
      "hard 150\n",
      "many 131\n",
      "young 124\n",
      "few 117\n",
      "cold 116\n",
      "heavy 114\n",
      "much 110\n",
      "true 105\n",
      "strong 102\n",
      "sweet 98\n",
      "certain 95\n",
      "deep 93\n",
      "soft 89\n",
      "full 87\n",
      "dark 87\n",
      "same 84\n",
      "better 84\n",
      "golden 83\n",
      "new 83\n",
      "pale 80\n",
      "open 74\n",
      "afraid 73\n",
      "tall 72\n",
      "thick 70\n",
      "green 70\n",
      "best 69\n",
      "big 69\n",
      "only 69\n",
      "second 67\n",
      "safe 67\n",
      "wrong 66\n",
      "low 65\n",
      "right 64\n",
      "hundred 63\n"
     ]
    }
   ],
   "source": [
    "# Top 50 adjective tokens\n",
    "\n",
    "got_adjective_tokens = []\n",
    "for sentence in tagged_got_text:\n",
    "    for word, pos in sentence:\n",
    "        if pos in ['JJ', 'JJR', 'JJS']: # adjective, comparative, superlative\n",
    "            if len(word)>1:\n",
    "                got_adjective_tokens.append(word)\n",
    "got_freq_adjective = nltk.FreqDist(got_adjective_tokens)\n",
    "\n",
    "for word, freq in got_freq_adjective.most_common(50):\n",
    "    print(word,freq)"
   ]
  },
  {
   "cell_type": "markdown",
   "id": "bde7b86c",
   "metadata": {},
   "source": [
    "The adjective from the adjective phrases that were most prominent were many, much, and afraid. These show in the top 50 adjectives but are not near the top.  When looking at the adjective alone afraid can be a very negative item but when looking at the phrases not afraid is present which negates the negative value. Also so afraid which amplifies the negativity.  "
   ]
  },
  {
   "cell_type": "code",
   "execution_count": 148,
   "id": "f938f2cd",
   "metadata": {},
   "outputs": [
    {
     "name": "stdout",
     "output_type": "stream",
     "text": [
      "ve 116\n",
      "ll 94\n",
      "other 88\n",
      "first 84\n",
      "last 82\n",
      "next 82\n",
      "little 67\n",
      "good 66\n",
      "re 63\n",
      "more 59\n",
      "old 56\n",
      "few 55\n",
      "large 51\n",
      "black 48\n",
      "long 45\n",
      "great 45\n",
      "much 44\n",
      "open 43\n",
      "new 36\n",
      "same 36\n",
      "full 36\n",
      "sure 33\n",
      "small 32\n",
      "high 32\n",
      "own 32\n",
      "second 31\n",
      "only 31\n",
      "right 31\n",
      "whole 30\n",
      "white 30\n",
      "big 28\n",
      "dark 28\n",
      "better 27\n",
      "bad 27\n",
      "able 26\n",
      "best 26\n",
      "many 26\n",
      "past 25\n",
      "green 25\n",
      "red 23\n",
      "common 22\n",
      "cold 21\n",
      "empty 21\n",
      "unicorn 21\n",
      "strange 20\n",
      "famous 20\n",
      "huge 20\n",
      "horrible 20\n",
      "stupid 19\n",
      "dead 19\n"
     ]
    }
   ],
   "source": [
    "# Top 50 adjective tokens\n",
    "\n",
    "hp_adjective_tokens = []\n",
    "for sentence in tagged_hp_text:\n",
    "    for word, pos in sentence:\n",
    "        if pos in ['JJ', 'JJR', 'JJS']: # adjective, comparative, superlative\n",
    "            if len(word)>1:\n",
    "                hp_adjective_tokens.append(word)\n",
    "hp_freq_adjective = nltk.FreqDist(hp_adjective_tokens)\n",
    "\n",
    "for word, freq in hp_freq_adjective.most_common(50):\n",
    "    print(word,freq)"
   ]
  },
  {
   "cell_type": "markdown",
   "id": "0f43a88b",
   "metadata": {},
   "source": [
    "Harry Potter similairly follows the same as Game of Thrones when comparing the top adjective vs the top adjective phrases.  One major difference is a top adjective from the adjective phrases is angry which doesn't appear in the top 50 adjective at all."
   ]
  },
  {
   "cell_type": "code",
   "execution_count": 149,
   "id": "2e4461c2",
   "metadata": {},
   "outputs": [
    {
     "name": "stdout",
     "output_type": "stream",
     "text": [
      "not 1839\n",
      "so 640\n",
      "n't 617\n",
      "back 487\n",
      "now 437\n",
      "as 412\n",
      "here 399\n",
      "never 384\n",
      "only 379\n",
      "too 351\n",
      "well 337\n",
      "even 326\n",
      "away 323\n",
      "still 294\n",
      "then 281\n",
      "again 274\n",
      "more 231\n",
      "yet 228\n",
      "there 227\n",
      "down 223\n",
      "once 196\n",
      "ever 188\n",
      "enough 179\n",
      "just 148\n",
      "always 142\n",
      "long 139\n",
      "far 132\n",
      "almost 126\n",
      "up 123\n",
      "Even 121\n",
      "Then 108\n",
      "very 105\n",
      "alone 101\n",
      "together 97\n",
      "soon 85\n",
      "Yet 84\n",
      "much 83\n",
      "Now 83\n",
      "Perhaps 79\n",
      "Not 76\n",
      "forward 75\n",
      "So 74\n",
      "perhaps 68\n",
      "truly 66\n",
      "Only 65\n",
      "first 64\n",
      "scarcely 64\n",
      "close 62\n",
      "hard 62\n",
      "else 61\n"
     ]
    }
   ],
   "source": [
    "# Top 50 adverb tokens\n",
    "\n",
    "got_adverb_tokens = []\n",
    "for sentence in tagged_got_text:\n",
    "    for word, pos in sentence:\n",
    "        if pos in ['RB', 'RBR', 'RBS']: # adverb, comparative, superlative\n",
    "            if len(word)>1:\n",
    "                got_adverb_tokens.append(word)\n",
    "got_freq_adverb = nltk.FreqDist(got_adverb_tokens)\n",
    "\n",
    "for word, freq in got_freq_adverb.most_common(50):\n",
    "    print(word,freq)"
   ]
  },
  {
   "cell_type": "markdown",
   "id": "f50c32ab",
   "metadata": {},
   "source": [
    "When looking at the 50 top adjective phrases the adverbs found in Game of Thrones were so, not, more, and as, while they all appear there are others that rank higher that show the use of adverbs outside of adjective phrases.  Looking at the 50 top adverb phrases there is a lot of \"not\" and \"as\" along with \"much\" and \"enough\" these all are found on the list of adverbs but can be hard to comprehend individually. Enough is the prime example.  Having enough is good but what adverb proceeds enough changes the meaning directly. Examples would be \"soon enough\" vs \"long enough\" the adverb proceeding enough changes the entire meaning of the word."
   ]
  },
  {
   "cell_type": "code",
   "execution_count": 150,
   "id": "47624204",
   "metadata": {},
   "outputs": [
    {
     "name": "stdout",
     "output_type": "stream",
     "text": [
      "not 208\n",
      "back 194\n",
      "just 157\n",
      "very 156\n",
      "so 147\n",
      "now 124\n",
      "then 117\n",
      "never 111\n",
      "here 111\n",
      "there 110\n",
      "again 101\n",
      "too 98\n",
      "even 90\n",
      "still 88\n",
      "as 76\n",
      "up 75\n",
      "down 71\n",
      "only 70\n",
      "really 70\n",
      "away 68\n",
      "suddenly 66\n",
      "once 66\n",
      "ever 55\n",
      "well 50\n",
      "more 49\n",
      "Then 48\n",
      "almost 47\n",
      "quickly 44\n",
      "right 44\n",
      "already 43\n",
      "Now 41\n",
      "later 40\n",
      "always 38\n",
      "else 37\n",
      "around 35\n",
      "quite 32\n",
      "forward 32\n",
      "enough 31\n",
      "much 29\n",
      "nearly 28\n",
      "Well 27\n",
      "long 26\n",
      "Not 26\n",
      "ve 25\n",
      "ll 25\n",
      "yet 25\n",
      "So 24\n",
      "somewhere 23\n",
      "far 22\n",
      "rather 22\n"
     ]
    }
   ],
   "source": [
    "# Top 50 adverb tokens\n",
    "\n",
    "hp_adverb_tokens = []\n",
    "for sentence in tagged_hp_text:\n",
    "    for word, pos in sentence:\n",
    "        if pos in ['RB', 'RBR', 'RBS']: # adverb, comparative, superlative\n",
    "            if len(word)>1:\n",
    "                hp_adverb_tokens.append(word)\n",
    "hp_freq_adverb = nltk.FreqDist(hp_adverb_tokens)\n",
    "\n",
    "for word, freq in hp_freq_adverb.most_common(50):\n",
    "    print(word,freq)"
   ]
  },
  {
   "cell_type": "markdown",
   "id": "4e3cc612",
   "metadata": {},
   "source": [
    "When looking at the 50 top adjective phrases the adverbs found in Harry Potter very and too.  Unlike Game of Thrones these are not at the top of the list.  The same ideas for adverb phrases vs adverbs hold true with the Harry Potter text."
   ]
  },
  {
   "cell_type": "code",
   "execution_count": 151,
   "id": "b4f86794",
   "metadata": {},
   "outputs": [
    {
     "name": "stdout",
     "output_type": "stream",
     "text": [
      "Ser 948\n",
      "Lord 889\n",
      "Jon 817\n",
      "Ned 783\n",
      "man 770\n",
      "Tyrion 606\n",
      "eyes 558\n",
      "Bran 536\n",
      "men 505\n",
      "father 501\n",
      "Catelyn 479\n",
      "king 474\n",
      "Arya 437\n",
      "hand 429\n",
      "brother 424\n",
      "face 422\n",
      "Sansa 415\n",
      "Dany 410\n",
      "Robb 406\n",
      "Robert 403\n",
      "lord 402\n",
      "boy 398\n",
      "Stark 392\n",
      "time 391\n",
      "head 372\n",
      "Lannister 344\n",
      "sword 326\n",
      "way 303\n",
      "voice 299\n",
      "blood 286\n",
      "son 281\n",
      "night 258\n",
      "day 258\n",
      "Maester 255\n",
      "horse 245\n",
      "Winterfell 236\n",
      "hair 224\n",
      "Drogo 219\n",
      "King 215\n",
      "Joffrey 215\n",
      "years 210\n",
      "feet 209\n",
      "hands 208\n",
      "gods 196\n",
      "door 191\n",
      "fingers 187\n",
      "words 181\n",
      "girl 177\n",
      "knight 176\n",
      "queen 175\n"
     ]
    }
   ],
   "source": [
    "# Top 50 noun tokens\n",
    "\n",
    "got_noun_tokens = []\n",
    "for sentence in tagged_got_text:\n",
    "    for word, pos in sentence:\n",
    "        if pos in ['NN','NNS','NNP','NNPS']: # Nouns, Singular, Plural, proper Singular, proper Plural\n",
    "            if len(word)>1:\n",
    "                got_noun_tokens.append(word)\n",
    "got_freq_noun = nltk.FreqDist(got_noun_tokens)\n",
    "\n",
    "for word, freq in got_freq_noun.most_common(50):\n",
    "    print(word,freq)"
   ]
  },
  {
   "cell_type": "code",
   "execution_count": 152,
   "id": "3228582f",
   "metadata": {},
   "outputs": [
    {
     "name": "stdout",
     "output_type": "stream",
     "text": [
      "Harry 1324\n",
      "Ron 428\n",
      "Hagrid 369\n",
      "Hermione 266\n",
      "Professor 179\n",
      "Snape 170\n",
      "Dumbledore 151\n",
      "Dudley 139\n",
      "Malfoy 126\n",
      "something 121\n",
      "time 118\n",
      "Neville 117\n",
      "Vernon 115\n",
      "Quirrell 113\n",
      "Uncle 111\n",
      "door 105\n",
      "eyes 104\n",
      "McGonagall 100\n",
      "Potter 95\n",
      "way 93\n",
      "head 91\n",
      "room 88\n",
      "people 86\n",
      "face 83\n",
      "Gryffindor 82\n",
      "Mr. 79\n",
      "Hogwarts 75\n",
      "boy 71\n",
      "anything 69\n",
      "hand 67\n",
      "school 65\n",
      "wand 60\n",
      "Stone 60\n",
      "voice 59\n",
      "day 58\n",
      "bit 57\n",
      "Petunia 57\n",
      "Quidditch 57\n",
      "Dursley 55\n",
      "Wood 55\n",
      "ter 54\n",
      "Filch 54\n",
      "Oh 53\n",
      "Aunt 52\n",
      "things 51\n",
      "feet 51\n",
      "years 50\n",
      "didn 50\n",
      "look 50\n",
      "Dursleys 49\n"
     ]
    }
   ],
   "source": [
    "# Top 50 noun tokens\n",
    "\n",
    "hp_noun_tokens = []\n",
    "for sentence in tagged_hp_text:\n",
    "    for word, pos in sentence:\n",
    "        if pos in ['NN','NNS','NNP','NNPS']: # Nouns, Singular, Plural, proper Singular, proper Plural\n",
    "            if len(word)>1:\n",
    "                hp_noun_tokens.append(word)\n",
    "hp_freq_noun = nltk.FreqDist(hp_noun_tokens)\n",
    "\n",
    "for word, freq in hp_freq_noun.most_common(50):\n",
    "    print(word,freq)"
   ]
  },
  {
   "cell_type": "markdown",
   "id": "481532ca",
   "metadata": {},
   "source": [
    "The top noun tokens are very different than the nouns found in the determiner nouns phrases.  The top nouns here are characters and places.  Where the determiner noun phrases were mostly titles, objects, and deeper look into the actual environment the books took place in.  The determiner noun phrases show mood and setting. The top nouns give a sense of who the book is about and the name of the locations the book takes place in."
   ]
  },
  {
   "cell_type": "code",
   "execution_count": 153,
   "id": "eb6a815c",
   "metadata": {},
   "outputs": [
    {
     "name": "stdout",
     "output_type": "stream",
     "text": [
      "was 3890\n",
      "had 2855\n",
      "said 1946\n",
      "is 1354\n",
      "have 1144\n",
      "were 1115\n",
      "be 1082\n",
      "do 714\n",
      "been 675\n",
      "are 667\n",
      "did 653\n",
      "told 494\n",
      "see 479\n",
      "'s 456\n",
      "know 414\n",
      "looked 403\n",
      "made 360\n",
      "took 337\n",
      "came 324\n",
      "saw 311\n",
      "has 302\n",
      "thought 294\n",
      "asked 277\n",
      "say 274\n",
      "come 272\n",
      "take 260\n",
      "go 259\n",
      "want 250\n",
      "knew 250\n",
      "went 248\n",
      "gave 242\n",
      "make 239\n",
      "heard 238\n",
      "seemed 224\n",
      "turned 218\n",
      "am 210\n",
      "found 206\n",
      "called 203\n",
      "left 191\n",
      "think 190\n",
      "tell 187\n",
      "gone 187\n",
      "felt 182\n",
      "stood 178\n",
      "let 176\n",
      "hear 174\n",
      "done 173\n",
      "'re 170\n",
      "'m 167\n",
      "put 166\n"
     ]
    }
   ],
   "source": [
    "# Top 50 Verb tokens\n",
    "\n",
    "got_verb_tokens = []\n",
    "for sentence in tagged_got_text:\n",
    "    for word, pos in sentence:\n",
    "        if pos in ['VB','VBG','VBD','VBN','VBP','VBZ']: # verbs, Singular, gerund, \n",
    "            #past tense, present tense not 3rd person singular,present tense 3rd person singular \n",
    "            if len(word)>1:\n",
    "                got_verb_tokens.append(word)\n",
    "got_freq_verb = nltk.FreqDist(got_verb_tokens)\n",
    "\n",
    "for word, freq in got_freq_verb.most_common(50):\n",
    "    print(word,freq)"
   ]
  },
  {
   "cell_type": "code",
   "execution_count": 154,
   "id": "0b32765b",
   "metadata": {},
   "outputs": [
    {
     "name": "stdout",
     "output_type": "stream",
     "text": [
      "was 1179\n",
      "said 793\n",
      "had 696\n",
      "be 360\n",
      "were 304\n",
      "have 288\n",
      "been 211\n",
      "got 192\n",
      "know 180\n",
      "get 169\n",
      "looked 169\n",
      "is 164\n",
      "do 149\n",
      "see 148\n",
      "didn 138\n",
      "are 136\n",
      "going 134\n",
      "think 115\n",
      "don 110\n",
      "go 110\n",
      "looking 98\n",
      "did 91\n",
      "told 88\n",
      "thought 82\n",
      "couldn 79\n",
      "turned 77\n",
      "came 75\n",
      "say 72\n",
      "seemed 72\n",
      "went 71\n",
      "want 69\n",
      "found 68\n",
      "come 67\n",
      "made 66\n",
      "left 64\n",
      "trying 64\n",
      "knew 61\n",
      "tried 61\n",
      "saw 61\n",
      "heard 60\n",
      "tell 59\n",
      "asked 59\n",
      "took 59\n",
      "put 58\n",
      "take 58\n",
      "look 54\n",
      "seen 53\n",
      "wasn 53\n",
      "pulled 52\n",
      "let 52\n"
     ]
    }
   ],
   "source": [
    "# Top 50 Verb tokens\n",
    "\n",
    "hp_verb_tokens = []\n",
    "for sentence in tagged_hp_text:\n",
    "    for word, pos in sentence:\n",
    "        if pos in ['VB','VBG','VBD','VBN','VBP','VBZ']:  # verbs, Singular, gerund, \n",
    "            #past tense, present tense not 3rd person singular,present tense 3rd person singular\n",
    "            if len(word)>1:\n",
    "                hp_verb_tokens.append(word)\n",
    "hp_freq_verb = nltk.FreqDist(hp_verb_tokens)\n",
    "\n",
    "for word, freq in hp_freq_verb.most_common(50):\n",
    "    print(word,freq)"
   ]
  },
  {
   "cell_type": "markdown",
   "id": "28d65cea",
   "metadata": {},
   "source": [
    "# Top 10 word type frequncy distrubution comparison"
   ]
  },
  {
   "cell_type": "markdown",
   "id": "30805f34",
   "metadata": {},
   "source": [
    "Using an empty dictionary, the 10 tokens of each type (adjective, adverb, noun, and verb) were obtained and placed in with key being the word and the value being the number of occurrence in the book.  Each dictionary was then taken, and the keys were placed into a list and the values into another list.  The lists were then graphed for a visual comparison of the two books most common tokens of each type (adjective, adverb, noun, and verb).  This was done for each book."
   ]
  },
  {
   "cell_type": "code",
   "execution_count": 155,
   "id": "c983d0e7",
   "metadata": {},
   "outputs": [
    {
     "data": {
      "text/plain": [
       "{'black': 354,\n",
       " 'old': 306,\n",
       " 'other': 256,\n",
       " 'dead': 241,\n",
       " 'long': 235,\n",
       " 'last': 233,\n",
       " 'own': 230,\n",
       " 'more': 223,\n",
       " 'little': 218,\n",
       " 'good': 218}"
      ]
     },
     "execution_count": 155,
     "metadata": {},
     "output_type": "execute_result"
    }
   ],
   "source": [
    "#creating a dict of the top 10 adjectives \n",
    "got_adj_dict = {}\n",
    "for word, freq in got_freq_adjective.most_common(10):\n",
    "    x=word\n",
    "    y=freq\n",
    "    got_adj_dict.update({x:y})\n",
    "got_adj_dict"
   ]
  },
  {
   "cell_type": "code",
   "execution_count": 156,
   "id": "900565ae",
   "metadata": {},
   "outputs": [
    {
     "data": {
      "text/plain": [
       "{'not': 1839,\n",
       " 'so': 640,\n",
       " \"n't\": 617,\n",
       " 'back': 487,\n",
       " 'now': 437,\n",
       " 'as': 412,\n",
       " 'here': 399,\n",
       " 'never': 384,\n",
       " 'only': 379,\n",
       " 'too': 351}"
      ]
     },
     "execution_count": 156,
     "metadata": {},
     "output_type": "execute_result"
    }
   ],
   "source": [
    "#creating a dict of the top 10 adverbs\n",
    "got_adv_dict = {}\n",
    "for word, freq in got_freq_adverb.most_common(10):\n",
    "    x=word\n",
    "    y=freq\n",
    "    got_adv_dict.update({x:y})\n",
    "got_adv_dict"
   ]
  },
  {
   "cell_type": "code",
   "execution_count": 157,
   "id": "19e714b6",
   "metadata": {},
   "outputs": [
    {
     "data": {
      "text/plain": [
       "{'Ser': 948,\n",
       " 'Lord': 889,\n",
       " 'Jon': 817,\n",
       " 'Ned': 783,\n",
       " 'man': 770,\n",
       " 'Tyrion': 606,\n",
       " 'eyes': 558,\n",
       " 'Bran': 536,\n",
       " 'men': 505,\n",
       " 'father': 501}"
      ]
     },
     "execution_count": 157,
     "metadata": {},
     "output_type": "execute_result"
    }
   ],
   "source": [
    "#creating a dict of the top 10 nouns\n",
    "got_noun_dict = {}\n",
    "for word, freq in got_freq_noun.most_common(10):\n",
    "    x=word\n",
    "    y=freq\n",
    "    got_noun_dict.update({x:y})\n",
    "got_noun_dict"
   ]
  },
  {
   "cell_type": "code",
   "execution_count": 158,
   "id": "17848166",
   "metadata": {},
   "outputs": [
    {
     "data": {
      "text/plain": [
       "{'was': 3890,\n",
       " 'had': 2855,\n",
       " 'said': 1946,\n",
       " 'is': 1354,\n",
       " 'have': 1144,\n",
       " 'were': 1115,\n",
       " 'be': 1082,\n",
       " 'do': 714,\n",
       " 'been': 675,\n",
       " 'are': 667}"
      ]
     },
     "execution_count": 158,
     "metadata": {},
     "output_type": "execute_result"
    }
   ],
   "source": [
    "#creating a dict of the top 10 verbs\n",
    "got_verb_dict = {}\n",
    "for word, freq in got_freq_verb.most_common(10):\n",
    "    x=word\n",
    "    y=freq\n",
    "    got_verb_dict.update({x:y})\n",
    "got_verb_dict"
   ]
  },
  {
   "cell_type": "code",
   "execution_count": 159,
   "id": "a96a0908",
   "metadata": {},
   "outputs": [],
   "source": [
    "#combining the keys (word tokens) from each dict into a list\n",
    "got_freq_dist_key = []\n",
    "for key in got_adj_dict.keys():\n",
    "    got_freq_dist_key.append(key)\n",
    "    \n",
    "for key in got_adv_dict.keys():\n",
    "    got_freq_dist_key.append(key)\n",
    "    \n",
    "for key in got_noun_dict.keys():\n",
    "    got_freq_dist_key.append(key)\n",
    "    \n",
    "for key in got_verb_dict.keys():\n",
    "    got_freq_dist_key.append(key)"
   ]
  },
  {
   "cell_type": "code",
   "execution_count": 160,
   "id": "81374d1f",
   "metadata": {},
   "outputs": [],
   "source": [
    "#combining the values (frequency) from each dict into a list\n",
    "got_freq_dist_value = []\n",
    "for value in got_adj_dict.values():\n",
    "    got_freq_dist_value.append(value)\n",
    "    \n",
    "for value in got_adv_dict.values():\n",
    "    got_freq_dist_value.append(value)\n",
    "    \n",
    "for value in got_noun_dict.values():\n",
    "    got_freq_dist_value.append(value)\n",
    "    \n",
    "for value in got_verb_dict.values():\n",
    "    got_freq_dist_value.append(value)"
   ]
  },
  {
   "cell_type": "code",
   "execution_count": 161,
   "id": "821b4cf5",
   "metadata": {},
   "outputs": [
    {
     "data": {
      "text/plain": [
       "{'ve': 116,\n",
       " 'll': 94,\n",
       " 'other': 88,\n",
       " 'first': 84,\n",
       " 'last': 82,\n",
       " 'next': 82,\n",
       " 'little': 67,\n",
       " 'good': 66,\n",
       " 're': 63,\n",
       " 'more': 59}"
      ]
     },
     "execution_count": 161,
     "metadata": {},
     "output_type": "execute_result"
    }
   ],
   "source": [
    "#creating a dict of the top 10 adjectives \n",
    "hp_adj_dict = {}\n",
    "for word, freq in hp_freq_adjective.most_common(10):\n",
    "    x=word\n",
    "    y=freq\n",
    "    hp_adj_dict.update({x:y})\n",
    "hp_adj_dict"
   ]
  },
  {
   "cell_type": "code",
   "execution_count": 162,
   "id": "0d1daeee",
   "metadata": {},
   "outputs": [
    {
     "data": {
      "text/plain": [
       "{'not': 208,\n",
       " 'back': 194,\n",
       " 'just': 157,\n",
       " 'very': 156,\n",
       " 'so': 147,\n",
       " 'now': 124,\n",
       " 'then': 117,\n",
       " 'never': 111,\n",
       " 'here': 111,\n",
       " 'there': 110}"
      ]
     },
     "execution_count": 162,
     "metadata": {},
     "output_type": "execute_result"
    }
   ],
   "source": [
    "#creating a dict of the top 10 adverbs\n",
    "hp_adv_dict = {}\n",
    "for word, freq in hp_freq_adverb.most_common(10):\n",
    "    x=word\n",
    "    y=freq\n",
    "    hp_adv_dict.update({x:y})\n",
    "hp_adv_dict"
   ]
  },
  {
   "cell_type": "code",
   "execution_count": 163,
   "id": "627a5e0d",
   "metadata": {},
   "outputs": [
    {
     "data": {
      "text/plain": [
       "{'Harry': 1324,\n",
       " 'Ron': 428,\n",
       " 'Hagrid': 369,\n",
       " 'Hermione': 266,\n",
       " 'Professor': 179,\n",
       " 'Snape': 170,\n",
       " 'Dumbledore': 151,\n",
       " 'Dudley': 139,\n",
       " 'Malfoy': 126,\n",
       " 'something': 121}"
      ]
     },
     "execution_count": 163,
     "metadata": {},
     "output_type": "execute_result"
    }
   ],
   "source": [
    "#creating a dict of the top 10 nouns\n",
    "hp_noun_dict = {}\n",
    "for word, freq in hp_freq_noun.most_common(10):\n",
    "    x=word\n",
    "    y=freq\n",
    "    hp_noun_dict.update({x:y})\n",
    "hp_noun_dict"
   ]
  },
  {
   "cell_type": "code",
   "execution_count": 164,
   "id": "797e9fbe",
   "metadata": {},
   "outputs": [
    {
     "data": {
      "text/plain": [
       "{'was': 1179,\n",
       " 'said': 793,\n",
       " 'had': 696,\n",
       " 'be': 360,\n",
       " 'were': 304,\n",
       " 'have': 288,\n",
       " 'been': 211,\n",
       " 'got': 192,\n",
       " 'know': 180,\n",
       " 'get': 169}"
      ]
     },
     "execution_count": 164,
     "metadata": {},
     "output_type": "execute_result"
    }
   ],
   "source": [
    "#creating a dict of the top 10 verbs\n",
    "hp_verb_dict = {}\n",
    "for word, freq in hp_freq_verb.most_common(10):\n",
    "    x=word\n",
    "    y=freq\n",
    "    hp_verb_dict.update({x:y})\n",
    "hp_verb_dict"
   ]
  },
  {
   "cell_type": "code",
   "execution_count": 165,
   "id": "362e1800",
   "metadata": {},
   "outputs": [],
   "source": [
    "#combining the keys (word tokens) from each dict into a list\n",
    "hp_freq_dist_key = []\n",
    "for key in hp_adj_dict.keys():\n",
    "    hp_freq_dist_key.append(key)\n",
    "    \n",
    "for key in hp_adv_dict.keys():\n",
    "    hp_freq_dist_key.append(key)\n",
    "    \n",
    "for key in hp_noun_dict.keys():\n",
    "    hp_freq_dist_key.append(key)\n",
    "    \n",
    "for key in hp_verb_dict.keys():\n",
    "    hp_freq_dist_key.append(key)"
   ]
  },
  {
   "cell_type": "code",
   "execution_count": 166,
   "id": "44a68efc",
   "metadata": {},
   "outputs": [],
   "source": [
    "#combining the values (frequency) from each dict into a list\n",
    "hp_freq_dist_value = []\n",
    "for value in hp_adj_dict.values():\n",
    "    hp_freq_dist_value.append(value)\n",
    "    \n",
    "for value in hp_adv_dict.values():\n",
    "    hp_freq_dist_value.append(value)\n",
    "    \n",
    "for value in hp_noun_dict.values():\n",
    "    hp_freq_dist_value.append(value)\n",
    "    \n",
    "for value in hp_verb_dict.values():\n",
    "    hp_freq_dist_value.append(value)"
   ]
  },
  {
   "cell_type": "code",
   "execution_count": 167,
   "id": "11aeab7b",
   "metadata": {},
   "outputs": [
    {
     "data": {
      "image/png": "[encoded data removed]",
      "text/plain": [
       "<Figure size 7200x1080 with 1 Axes>"
      ]
     },
     "metadata": {
      "needs_background": "light"
     },
     "output_type": "display_data"
    }
   ],
   "source": [
    "import matplotlib.pyplot as plt\n",
    "import matplotlib.patches as mpatches\n",
    "#function to add value labels\n",
    "def addlabels(y):\n",
    "    for i in range(len(y)):\n",
    "        plt.text(i,y[i],y[i],fontweight = 'bold')\n",
    "\n",
    "names = got_freq_dist_key\n",
    "values = got_freq_dist_value\n",
    "\n",
    "\n",
    "colors = ['green','green','green','green','green','green','green','green','green','green',\n",
    "         'blue','blue','blue','blue','blue','blue','blue','blue','blue','blue',\n",
    "         'red','red','red','red','red','red','red','red','red','red',\n",
    "         'purple','purple','purple','purple','purple','purple','purple','purple','purple','purple',]\n",
    "\n",
    "\n",
    "\n",
    "\n",
    "\n",
    "plt.show()\n",
    "# legend manually added\n",
    "l1 = mpatches.Patch(color='green', label='adjective')\n",
    "l2 = mpatches.Patch(color='blue', label='adverb')\n",
    "l3 = mpatches.Patch(color='red', label='noun')\n",
    "l4 = mpatches.Patch(color='purple', label='verb')\n",
    "\n",
    "\n",
    "\n",
    "\n",
    "plt.figure(figsize=(100, 15))\n",
    "location = 0 # For the best location\n",
    "legend_drawn_flag = True\n",
    "\n",
    "plt.subplot(131)\n",
    "plt.bar(names\n",
    "       ,values\n",
    "        , color = colors\n",
    "       )\n",
    "plt.xticks(rotation= 45)\n",
    "plt.ylabel('Counnt')\n",
    "plt.xlabel('Tokens')\n",
    "plt.title('Frequncy distrubution of top ten adjectives vs adverbs vs nouns vs verbs \\nfor Game of Thrones')\n",
    "addlabels(values)\n",
    "plt.legend(handles=[l1, l2, l3,l4], loc=0)\n",
    "plt.show()"
   ]
  },
  {
   "cell_type": "code",
   "execution_count": 168,
   "id": "88542780",
   "metadata": {},
   "outputs": [
    {
     "data": {
      "image/png": "[encoded data removed]",
      "text/plain": [
       "<Figure size 7200x1080 with 1 Axes>"
      ]
     },
     "metadata": {
      "needs_background": "light"
     },
     "output_type": "display_data"
    }
   ],
   "source": [
    "import matplotlib.pyplot as plt\n",
    "import matplotlib.patches as mpatches\n",
    "#function to add value labels\n",
    "def addlabels(y):\n",
    "    for i in range(len(y)):\n",
    "        plt.text(i,y[i],y[i],fontweight = 'bold')\n",
    "\n",
    "names = hp_freq_dist_key\n",
    "values = hp_freq_dist_value\n",
    "\n",
    "\n",
    "colors = ['green','green','green','green','green','green','green','green','green','green',\n",
    "         'blue','blue','blue','blue','blue','blue','blue','blue','blue','blue',\n",
    "         'red','red','red','red','red','red','red','red','red','red',\n",
    "         'purple','purple','purple','purple','purple','purple','purple','purple','purple','purple',]\n",
    "\n",
    "\n",
    "\n",
    "\n",
    "\n",
    "plt.show()\n",
    "# manually adding a legend\n",
    "l1 = mpatches.Patch(color='green', label='adjective')\n",
    "l2 = mpatches.Patch(color='blue', label='adverb')\n",
    "l3 = mpatches.Patch(color='red', label='noun')\n",
    "l4 = mpatches.Patch(color='purple', label='verb')\n",
    "\n",
    "\n",
    "\n",
    "\n",
    "plt.figure(figsize=(100, 15))\n",
    "location = 0 # For the best location\n",
    "legend_drawn_flag = True\n",
    "\n",
    "plt.subplot(131)\n",
    "plt.bar(names\n",
    "       ,values\n",
    "        , color = colors\n",
    "       )\n",
    "plt.xticks(rotation= 45)\n",
    "plt.ylabel('Counnt')\n",
    "plt.xlabel('Tokens')\n",
    "plt.title('Frequncy distrubution of top ten adjectives vs adverbs vs nouns vs verbs \\nfor Harry Potter')\n",
    "addlabels(values)\n",
    "plt.legend(handles=[l1, l2, l3,l4], loc=0)\n",
    "plt.show()"
   ]
  },
  {
   "cell_type": "markdown",
   "id": "884acc92",
   "metadata": {},
   "source": [
    "When comparing the top ten words of each type between Game of Thrones and Harry Potter there are a few large differences. The use of not in Game of Thrones is very high and is an outlier compared to the rest of the adverbs.  For Harry Potter there is a extremely high usage of the word Harry in nouns.  The usage of Harry is to be expected but the word not showing up at such a high amount could indicate that Game of Thrones would be very hard to use sentiment analysis on because of the constant amount of negation.  Although this does afford a good opportunity to try different ways of using not as a way to accomplish sentiment analysis with negation."
   ]
  },
  {
   "cell_type": "markdown",
   "id": "e90cfdc2",
   "metadata": {},
   "source": [
    "# Sentiment Recommendations"
   ]
  },
  {
   "cell_type": "markdown",
   "id": "3071a6cc",
   "metadata": {},
   "source": [
    "For Sentiment analysis when an adjective is used as a predictor such as “nasty” giving a negative sentiment, if the adjective is part of an adjective phrase such as “very nasty” the score could contain a weight making this negative score higher.  This would give a more accurate score.   The adverbs in particular should be taken into account as they are increasing the sentiment.  Examples are “very nasty” “too old” “very painful”, “more dangerous”, “more important”.  The adverbs are also used to negate sentiment.  Some examples are “not” and “never”.  Adverbs also change the sentiment such as “yet” and “still”.   Possibly assigning a -1 score to not or never to be used in conjunction with its pairing token could give a better sentiment score.  If ugly is neg score of 0.5 and the text says not ugly it could give negative score of -.5 reducing the negative score overall.  If the sentiment was conducted with these POS adjective phrases inplace of the times when it is just the adjective the results would be more realistic.  For instance instead of \"afraid\" the use of \"so afraid\" and \"not afraid\" was looked for first and given different value scores then the sentiment analysis looked for afraid a better overall score would be found. "
   ]
  },
  {
   "cell_type": "markdown",
   "id": "5718a196",
   "metadata": {},
   "source": [
    "With adverb phrases the use of two adverbs together often counter act one another.  Examples include “not even”, “not so” “not quite”, “yet still”, “not just”.  This can be explained using a longer example such as “He worked out, yet still he was skinny”. Since this example has worked as possibly being positive and skinny being positive the sentiment would be positive, the use of \"yet still\" changes the context of the sentence to being negative.  The list of adverb phrases should be cut down but given a negation ability to change the overall sentiment of a sentence.    "
   ]
  },
  {
   "cell_type": "markdown",
   "id": "eb77a694",
   "metadata": {},
   "source": [
    "When finding tokens that represent the text it seems prudent to consider the distribution of tags.  While still considering which types of words will affect sentiment.  The tag distribution should be similar and the important part of speech that indicates sentiment should be highly valued.  Using weights to amplify specific phrases that occur and negators to reduce score when a token is being contradicted in the text such as “not ugly”.  Lastly I would recommend a careful look at Game of Thrones because of the extesive amount of the word not appearing in the text."
   ]
  }
 ],
 "metadata": {
  "kernelspec": {
   "display_name": "Python 3 (ipykernel)",
   "language": "python",
   "name": "python3"
  },
  "language_info": {
   "codemirror_mode": {
    "name": "ipython",
    "version": 3
   },
   "file_extension": ".py",
   "mimetype": "text/x-python",
   "name": "python",
   "nbconvert_exporter": "python",
   "pygments_lexer": "ipython3",
   "version": "3.8.8"
  }
 },
 "nbformat": 4,
 "nbformat_minor": 5
}
